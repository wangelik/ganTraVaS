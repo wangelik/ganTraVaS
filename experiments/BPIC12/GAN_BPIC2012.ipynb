{
 "cells": [
  {
   "cell_type": "code",
   "execution_count": 2,
   "metadata": {},
   "outputs": [],
   "source": [
    "# import table\n",
    "import pandas as pd\n",
    "import numpy as np\n",
    "import matplotlib.pyplot as plt\n",
    "import random as ra\n",
    "import json\n",
    "%matplotlib inline\n",
    "\n",
    "import torch\n",
    "from torch import nn\n",
    "import torch.nn.functional as F\n",
    "\n",
    "from dp_processor import Processor\n",
    "from dp_wgan import Generator, Discriminator\n",
    "from dp_autoencoder import Autoencoder\n",
    "import dp_optimizer, sampling, analysis\n",
    "\n",
    "from pm4py.objects.log.importer.xes import importer\n",
    "from pm4py.algo.filtering.log.variants import variants_filter\n",
    "\n",
    "from dpv.data_utility import emd_utility, log_diff\n",
    "\n",
    "\n",
    "# settings\n",
    "torch.manual_seed(0)\n",
    "np.random.seed(0)"
   ]
  },
  {
   "cell_type": "code",
   "execution_count": 3,
   "metadata": {},
   "outputs": [
    {
     "name": "stderr",
     "output_type": "stream",
     "text": [
      "parsing log, completed traces :: 100%|██████████| 13087/13087 [00:07<00:00, 1741.55it/s]\n"
     ]
    }
   ],
   "source": [
    "# import xes event log (BPIC2012 example)\n",
    "log = importer.apply('BPI2012App.xes')"
   ]
  },
  {
   "cell_type": "code",
   "execution_count": 4,
   "metadata": {},
   "outputs": [
    {
     "data": {
      "text/plain": [
       "17"
      ]
     },
     "execution_count": 4,
     "metadata": {},
     "output_type": "execute_result"
    }
   ],
   "source": [
    "# extract variants\n",
    "variants = variants_filter.get_variants(log)\n",
    "\n",
    "# number of variants\n",
    "len(variants)"
   ]
  },
  {
   "cell_type": "code",
   "execution_count": 584,
   "metadata": {},
   "outputs": [
    {
     "data": {
      "text/html": [
       "<div>\n",
       "<style scoped>\n",
       "    .dataframe tbody tr th:only-of-type {\n",
       "        vertical-align: middle;\n",
       "    }\n",
       "\n",
       "    .dataframe tbody tr th {\n",
       "        vertical-align: top;\n",
       "    }\n",
       "\n",
       "    .dataframe thead th {\n",
       "        text-align: right;\n",
       "    }\n",
       "</style>\n",
       "<table border=\"1\" class=\"dataframe\">\n",
       "  <thead>\n",
       "    <tr style=\"text-align: right;\">\n",
       "      <th></th>\n",
       "      <th>variant</th>\n",
       "    </tr>\n",
       "  </thead>\n",
       "  <tbody>\n",
       "    <tr>\n",
       "      <th>0</th>\n",
       "      <td>A_SUBMITTED,A_PARTLYSUBMITTED,A_PREACCEPTED,A_...</td>\n",
       "    </tr>\n",
       "    <tr>\n",
       "      <th>1</th>\n",
       "      <td>A_SUBMITTED,A_PARTLYSUBMITTED,A_PREACCEPTED,A_...</td>\n",
       "    </tr>\n",
       "    <tr>\n",
       "      <th>2</th>\n",
       "      <td>A_SUBMITTED,A_PARTLYSUBMITTED,A_PREACCEPTED,A_...</td>\n",
       "    </tr>\n",
       "    <tr>\n",
       "      <th>3</th>\n",
       "      <td>A_SUBMITTED,A_PARTLYSUBMITTED,A_PREACCEPTED,A_...</td>\n",
       "    </tr>\n",
       "    <tr>\n",
       "      <th>4</th>\n",
       "      <td>A_SUBMITTED,A_PARTLYSUBMITTED,A_PREACCEPTED,A_...</td>\n",
       "    </tr>\n",
       "    <tr>\n",
       "      <th>...</th>\n",
       "      <td>...</td>\n",
       "    </tr>\n",
       "    <tr>\n",
       "      <th>13082</th>\n",
       "      <td>A_SUBMITTED,A_PARTLYSUBMITTED,A_DECLINED</td>\n",
       "    </tr>\n",
       "    <tr>\n",
       "      <th>13083</th>\n",
       "      <td>A_SUBMITTED,A_PARTLYSUBMITTED,A_PREACCEPTED,A_...</td>\n",
       "    </tr>\n",
       "    <tr>\n",
       "      <th>13084</th>\n",
       "      <td>A_SUBMITTED,A_PARTLYSUBMITTED,A_PREACCEPTED,A_...</td>\n",
       "    </tr>\n",
       "    <tr>\n",
       "      <th>13085</th>\n",
       "      <td>A_SUBMITTED,A_PARTLYSUBMITTED,A_DECLINED</td>\n",
       "    </tr>\n",
       "    <tr>\n",
       "      <th>13086</th>\n",
       "      <td>A_SUBMITTED,A_PARTLYSUBMITTED,A_PREACCEPTED,A_...</td>\n",
       "    </tr>\n",
       "  </tbody>\n",
       "</table>\n",
       "<p>13087 rows × 1 columns</p>\n",
       "</div>"
      ],
      "text/plain": [
       "                                                 variant\n",
       "0      A_SUBMITTED,A_PARTLYSUBMITTED,A_PREACCEPTED,A_...\n",
       "1      A_SUBMITTED,A_PARTLYSUBMITTED,A_PREACCEPTED,A_...\n",
       "2      A_SUBMITTED,A_PARTLYSUBMITTED,A_PREACCEPTED,A_...\n",
       "3      A_SUBMITTED,A_PARTLYSUBMITTED,A_PREACCEPTED,A_...\n",
       "4      A_SUBMITTED,A_PARTLYSUBMITTED,A_PREACCEPTED,A_...\n",
       "...                                                  ...\n",
       "13082           A_SUBMITTED,A_PARTLYSUBMITTED,A_DECLINED\n",
       "13083  A_SUBMITTED,A_PARTLYSUBMITTED,A_PREACCEPTED,A_...\n",
       "13084  A_SUBMITTED,A_PARTLYSUBMITTED,A_PREACCEPTED,A_...\n",
       "13085           A_SUBMITTED,A_PARTLYSUBMITTED,A_DECLINED\n",
       "13086  A_SUBMITTED,A_PARTLYSUBMITTED,A_PREACCEPTED,A_...\n",
       "\n",
       "[13087 rows x 1 columns]"
      ]
     },
     "execution_count": 584,
     "metadata": {},
     "output_type": "execute_result"
    }
   ],
   "source": [
    "# create dataframe\n",
    "var_log = []\n",
    "\n",
    "for var in variants:\n",
    "    var_log += [var] * len(variants[var])\n",
    "    \n",
    "ra.shuffle(var_log)\n",
    "df = pd.DataFrame({'variant': var_log})\n",
    "df_orig = pd.DataFrame({'orig': var_log})\n",
    "df"
   ]
  },
  {
   "cell_type": "code",
   "execution_count": 585,
   "metadata": {},
   "outputs": [
    {
     "name": "stdout",
     "output_type": "stream",
     "text": [
      "tensor([[0., 0., 0.,  ..., 0., 0., 1.],\n",
      "        [0., 0., 0.,  ..., 0., 0., 0.],\n",
      "        [0., 0., 0.,  ..., 0., 1., 0.],\n",
      "        ...,\n",
      "        [0., 0., 0.,  ..., 0., 0., 0.],\n",
      "        [0., 1., 0.,  ..., 0., 0., 0.],\n",
      "        [0., 0., 0.,  ..., 1., 0., 0.]]) torch.Size([12825, 17])\n",
      "tensor([[0., 1., 0.,  ..., 0., 0., 0.],\n",
      "        [0., 1., 0.,  ..., 0., 0., 0.],\n",
      "        [0., 0., 0.,  ..., 0., 1., 0.],\n",
      "        ...,\n",
      "        [0., 0., 0.,  ..., 0., 0., 0.],\n",
      "        [0., 1., 0.,  ..., 0., 0., 0.],\n",
      "        [0., 0., 0.,  ..., 1., 0., 0.]]) torch.Size([262, 17])\n"
     ]
    }
   ],
   "source": [
    "# init data processor\n",
    "datatypes = [('variant', 'categorical')]\n",
    "processor = Processor(datatypes)\n",
    "\n",
    "# encode categories\n",
    "for column, datatype in datatypes:\n",
    "    if 'categorical' in datatype:\n",
    "        df[column] = df[column].astype('category').cat.codes\n",
    "\n",
    "# init training data\n",
    "train_df = df.head(int(len(df)*0.98))\n",
    "train_cutoff = int(len(df)*0.98)\n",
    "\n",
    "# create tensor data\n",
    "X_real = torch.tensor(df.values, dtype=torch.float32)\n",
    "X_encoded = torch.tensor(processor.fit_transform(X_real), dtype=torch.float32)\n",
    "\n",
    "# create train / test tensors\n",
    "X_train_real = X_real[:train_cutoff]\n",
    "X_test_real = X_real[train_cutoff:]\n",
    "\n",
    "# create encoded train / test tensors\n",
    "X_train_encoded = X_encoded[:train_cutoff]\n",
    "X_test_encoded = X_encoded[train_cutoff:]\n",
    "\n",
    "# print preview\n",
    "print(X_train_encoded, X_train_encoded.shape)\n",
    "print(X_test_encoded, X_test_encoded.shape)"
   ]
  },
  {
   "cell_type": "code",
   "execution_count": 586,
   "metadata": {},
   "outputs": [],
   "source": [
    "# autoencoder config\n",
    "ae_params = {\n",
    "    'b1': 0.9,\n",
    "    'b2': 0.999,\n",
    "    'binary': True,\n",
    "    'compress_dim': 15,\n",
    "    'delta': 1e-6,\n",
    "    'device': 'cpu',\n",
    "    'iterations': 20000,\n",
    "    'lr': 0.005,\n",
    "    'l2_penalty': 0.,\n",
    "    'l2_norm_clip': 0.012,\n",
    "    'minibatch_size': 32,\n",
    "    'microbatch_size': 1,\n",
    "    'noise_multiplier': 18,\n",
    "    'nonprivate': True,\n",
    "}\n",
    "\n",
    "# OPTIMIZED HYPERPARAMETER\n",
    "\n",
    "# 0.01\n",
    "# 2 : 1.4, 64, 20000\n",
    "# 1 : 2.4, 64, 20000\n",
    "# 0.1 : 10, 32, 25000\n",
    "# 0.01: 50, 32, 25000\n",
    "\n",
    "# 0.001\n",
    "# 2: 1.6 64 20k\n",
    "# 1: 2.6 64 20k\n",
    "# 0.1: 10 32 25k\n",
    "# 0.01: 60 32 25k\n",
    "\n",
    "# 0.0001\n",
    "# 2: 1.8, 64, 20k\n",
    "# 1: 3.6, 64, 20k\n",
    "# 0.1: 15, 32, 25k\n",
    "# 0.01: 70, 32, 25k\n",
    "\n",
    "# -5\n",
    "# 2: 2.1 64 25k\n",
    "# 1: 4 64 25k\n",
    "# 0.1: 15 32 25k\n",
    "# 0.01: 80 32 25k\n",
    "\n",
    "# -6\n",
    "# 2: 2.3 64 25k\n",
    "# 1: 4 64 25k\n",
    "# 0.1: 18 32 25k\n",
    "# 0.01: 150 32 20k\n",
    "\n",
    "# init autoencoder\n",
    "autoencoder = Autoencoder(\n",
    "    example_dim=len(X_train_encoded[0]),\n",
    "    compression_dim=ae_params['compress_dim'],\n",
    "    binary=ae_params['binary'],\n",
    "    device=ae_params['device'],\n",
    ")\n",
    "\n",
    "# init decoding optimizer\n",
    "decoder_optimizer = dp_optimizer.DPAdam(\n",
    "    l2_norm_clip=ae_params['l2_norm_clip'],\n",
    "    noise_multiplier=ae_params['noise_multiplier'],\n",
    "    minibatch_size=ae_params['minibatch_size'],\n",
    "    microbatch_size=ae_params['microbatch_size'],\n",
    "    nonprivate=ae_params['nonprivate'],\n",
    "    params=autoencoder.get_decoder().parameters(),\n",
    "    lr=ae_params['lr'],\n",
    "    betas=(ae_params['b1'], ae_params['b2']),\n",
    "    weight_decay=ae_params['l2_penalty'],\n",
    ")\n",
    "\n",
    "# init encoding optimizer\n",
    "encoder_optimizer = torch.optim.Adam(\n",
    "    params=autoencoder.get_encoder().parameters(),\n",
    "    lr=ae_params['lr'] * ae_params['microbatch_size'] / ae_params['minibatch_size'],\n",
    "    betas=(ae_params['b1'], ae_params['b2']),\n",
    "    weight_decay=ae_params['l2_penalty'],\n",
    ")"
   ]
  },
  {
   "cell_type": "code",
   "execution_count": 587,
   "metadata": {},
   "outputs": [
    {
     "name": "stdout",
     "output_type": "stream",
     "text": [
      "Autoencoder(\n",
      "  (encoder): Sequential(\n",
      "    (0): Linear(in_features=17, out_features=16, bias=True)\n",
      "    (1): Tanh()\n",
      "    (2): Linear(in_features=16, out_features=15, bias=True)\n",
      "    (3): Tanh()\n",
      "  )\n",
      "  (decoder): Sequential(\n",
      "    (0): Linear(in_features=15, out_features=16, bias=True)\n",
      "    (1): Tanh()\n",
      "    (2): Linear(in_features=16, out_features=17, bias=True)\n",
      "    (3): Sigmoid()\n",
      "  )\n",
      ")\n"
     ]
    }
   ],
   "source": [
    "\"\"\"\n",
    "weights, ds = [], []\n",
    "for name, datatype in datatypes:\n",
    "    if 'categorical' in datatype:\n",
    "        num_values = len(np.unique(df[name]))\n",
    "        if num_values == 2:\n",
    "            weights.append(1.)\n",
    "            ds.append((datatype, 1))\n",
    "        else:\n",
    "            for i in range(num_values):\n",
    "                weights.append(1. / num_values)\n",
    "            ds.append((datatype, num_values))\n",
    "    else:\n",
    "        weights.append(1.)\n",
    "        ds.append((datatype, 1))\n",
    "weights = torch.tensor(weights).to(ae_params['device'])\n",
    "\"\"\"\n",
    "\n",
    "# define loss\n",
    "#autoencoder_loss = (lambda input, target: torch.mul(weights, torch.pow(input-target, 2)).sum(dim=1).mean(dim=0))\n",
    "#autoencoder_loss = lambda input, target: torch.mul(weights, F.binary_cross_entropy(input, target, reduction='none')).sum(dim=1).mean(dim=0)\n",
    "autoencoder_loss = nn.BCELoss()\n",
    "#autoencoder_loss = nn.MSELoss()\n",
    "\n",
    "# print network structure\n",
    "print(autoencoder)"
   ]
  },
  {
   "cell_type": "code",
   "execution_count": 588,
   "metadata": {},
   "outputs": [
    {
     "name": "stdout",
     "output_type": "stream",
     "text": [
      "Achieves (0.10342505562755817, 1e-06)-DP\n"
     ]
    }
   ],
   "source": [
    "# DP parameter analysis\n",
    "print('Achieves ({}, {})-DP'.format(\n",
    "    analysis.epsilon(\n",
    "        len(X_train_encoded),\n",
    "        ae_params['minibatch_size'],\n",
    "        ae_params['noise_multiplier'],\n",
    "        ae_params['iterations'],\n",
    "        ae_params['delta']\n",
    "    ),\n",
    "    ae_params['delta'],\n",
    "))"
   ]
  },
  {
   "cell_type": "code",
   "execution_count": 589,
   "metadata": {},
   "outputs": [],
   "source": [
    "# init data loader\n",
    "minibatch_loader, microbatch_loader = sampling.get_data_loaders(\n",
    "    minibatch_size=ae_params['minibatch_size'],\n",
    "    microbatch_size=ae_params['microbatch_size'],\n",
    "    iterations=ae_params['iterations'],\n",
    "    nonprivate=ae_params['nonprivate'],\n",
    ")"
   ]
  },
  {
   "cell_type": "code",
   "execution_count": 590,
   "metadata": {},
   "outputs": [
    {
     "name": "stdout",
     "output_type": "stream",
     "text": [
      "[Iteration 0/20000] [Loss: 0.722056] [Validation Loss: 0.723094]\n",
      "[Iteration 1000/20000] [Loss: 0.143994] [Validation Loss: 0.153850]\n",
      "[Iteration 2000/20000] [Loss: 0.067557] [Validation Loss: 0.083046]\n",
      "[Iteration 3000/20000] [Loss: 0.033840] [Validation Loss: 0.038739]\n",
      "[Iteration 4000/20000] [Loss: 0.017859] [Validation Loss: 0.017983]\n",
      "[Iteration 5000/20000] [Loss: 0.005987] [Validation Loss: 0.010390]\n",
      "[Iteration 6000/20000] [Loss: 0.009199] [Validation Loss: 0.006711]\n",
      "[Iteration 7000/20000] [Loss: 0.004999] [Validation Loss: 0.004646]\n",
      "[Iteration 8000/20000] [Loss: 0.004586] [Validation Loss: 0.003736]\n",
      "[Iteration 9000/20000] [Loss: 0.001824] [Validation Loss: 0.003204]\n",
      "[Iteration 10000/20000] [Loss: 0.003032] [Validation Loss: 0.002809]\n",
      "[Iteration 11000/20000] [Loss: 0.005613] [Validation Loss: 0.002392]\n",
      "[Iteration 12000/20000] [Loss: 0.001626] [Validation Loss: 0.002240]\n",
      "[Iteration 13000/20000] [Loss: 0.001914] [Validation Loss: 0.001995]\n",
      "[Iteration 14000/20000] [Loss: 0.001181] [Validation Loss: 0.001820]\n",
      "[Iteration 15000/20000] [Loss: 0.001733] [Validation Loss: 0.001594]\n",
      "[Iteration 16000/20000] [Loss: 0.001601] [Validation Loss: 0.001602]\n",
      "[Iteration 17000/20000] [Loss: 0.009394] [Validation Loss: 0.001463]\n",
      "[Iteration 18000/20000] [Loss: 0.000964] [Validation Loss: 0.001393]\n",
      "[Iteration 19000/20000] [Loss: 0.000687] [Validation Loss: 0.001273]\n"
     ]
    },
    {
     "data": {
      "text/plain": [
       "<AxesSubplot:>"
      ]
     },
     "execution_count": 590,
     "metadata": {},
     "output_type": "execute_result"
    },
    {
     "data": {
      "image/png": "[encoded data removed]",
      "text/plain": [
       "<Figure size 432x288 with 1 Axes>"
      ]
     },
     "metadata": {
      "needs_background": "light"
     },
     "output_type": "display_data"
    }
   ],
   "source": [
    "# train autoencoder\n",
    "train_losses, validation_losses = [], []\n",
    "\n",
    "X_train_encoded = X_train_encoded.to(ae_params['device'])\n",
    "X_test_encoded = X_test_encoded.to(ae_params['device'])\n",
    "\n",
    "for iteration, X_minibatch in enumerate(minibatch_loader(X_train_encoded)):\n",
    "    \n",
    "    encoder_optimizer.zero_grad()\n",
    "    decoder_optimizer.zero_grad()\n",
    "    \n",
    "    for X_microbatch in microbatch_loader(X_minibatch):\n",
    "\n",
    "        decoder_optimizer.zero_microbatch_grad()\n",
    "        output = autoencoder(X_microbatch)\n",
    "        loss = autoencoder_loss(output, X_microbatch)\n",
    "        loss.backward()\n",
    "        decoder_optimizer.microbatch_step()\n",
    "        \n",
    "    validation_loss = autoencoder_loss(autoencoder(X_test_encoded).detach(), X_test_encoded)\n",
    "    \n",
    "    encoder_optimizer.step()\n",
    "    decoder_optimizer.step()\n",
    "\n",
    "    train_losses.append(loss.item())\n",
    "    validation_losses.append(validation_loss.item())\n",
    "\n",
    "    if iteration % 1000 == 0:\n",
    "        print ('[Iteration %d/%d] [Loss: %f] [Validation Loss: %f]' % (\n",
    "            iteration, ae_params['iterations'], loss.item(), validation_loss.item())\n",
    "        )\n",
    "\n",
    "pd.DataFrame(data={'train': train_losses, 'validation': validation_losses}).plot()"
   ]
  },
  {
   "cell_type": "code",
   "execution_count": 580,
   "metadata": {},
   "outputs": [],
   "source": [
    "# save autoencoder\n",
    "with open('models/model_12_ae_0.01_0.001.dat', 'wb') as f:\n",
    "    torch.save(autoencoder, f)"
   ]
  },
  {
   "cell_type": "code",
   "execution_count": 255,
   "metadata": {},
   "outputs": [],
   "source": [
    "# load autoencoder\n",
    "with open('models/model_12_ae_0.01_0.000001.dat', 'rb') as f:\n",
    "    autoencoder = torch.load(f)\n"
   ]
  },
  {
   "cell_type": "code",
   "execution_count": 559,
   "metadata": {},
   "outputs": [],
   "source": [
    "# extract decoder\n",
    "decoder = autoencoder.get_decoder()"
   ]
  },
  {
   "cell_type": "code",
   "execution_count": 560,
   "metadata": {},
   "outputs": [],
   "source": [
    "# GAN config\n",
    "gan_params = {\n",
    "    'alpha': 0.99,\n",
    "    'binary': True,\n",
    "    'clip_value': 0.01,\n",
    "    'd_updates': 15,\n",
    "    'delta': 1e-3,\n",
    "    'device': 'cpu',\n",
    "    'iterations': 50,\n",
    "    'latent_dim': 64,\n",
    "    'lr': 0.005,\n",
    "    'l2_penalty': 0.,\n",
    "    'l2_norm_clip': 0.022,\n",
    "    'minibatch_size': 128,\n",
    "    'microbatch_size': 1,\n",
    "    'noise_multiplier': 70,\n",
    "    'nonprivate': False,\n",
    "}\n",
    "\n",
    "# OPTIMIZED HYPERPARAMETER\n",
    "\n",
    "# 0.01 noise minibatch iter\n",
    "# 2: 1.3, 64, 15000\n",
    "# 1: 2.3, 64, 15000\n",
    "# 0.1: 50, 512, 3000\n",
    "# 0.01: 70, 128, 3000\n",
    "\n",
    "# 0.001\n",
    "# 2: 1.7 256 1500\n",
    "# 1: 2.7 256 1500\n",
    "# 0.1: 25 256 1500\n",
    "# 0.01: 70 128 50\n",
    "\n",
    "# 0.0001\n",
    "# 2: 1.7, 64, 15k\n",
    "# 1: 3, 64, 15k\n",
    "# 0.1: 10, 512, 20\n",
    "# 0.01: 60, 512, 40\n",
    "\n",
    "# -5\n",
    "# 2: 2.1 265 1500\n",
    "# 1: 4 265 1500\n",
    "# 0.1: 4 128 40 \n",
    "# 0.01: 140 128 2000\n",
    "\n",
    "# -6\n",
    "# 2: 2.3 256 1500\n",
    "# 1: 4 256 1500\n",
    "# 0.1: 20 128 1500\n",
    "# 0.01: 140 128 2000\n",
    "\n",
    "generator = Generator(\n",
    "    input_dim=gan_params['latent_dim'],\n",
    "    output_dim=autoencoder.get_compression_dim(),\n",
    "    binary=gan_params['binary'],\n",
    "    device=gan_params['device'],\n",
    ")\n",
    "\n",
    "g_optimizer = torch.optim.RMSprop(\n",
    "    params=generator.parameters(),\n",
    "    lr=gan_params['lr'],\n",
    "    alpha=gan_params['alpha'],\n",
    "    weight_decay=gan_params['l2_penalty'],\n",
    ")\n",
    "\n",
    "discriminator = Discriminator(\n",
    "    input_dim=len(X_train_encoded[0]),\n",
    "    device=gan_params['device'],\n",
    ")\n",
    "\n",
    "d_optimizer = dp_optimizer.DPRMSprop(\n",
    "    l2_norm_clip=gan_params['l2_norm_clip'],\n",
    "    noise_multiplier=gan_params['noise_multiplier'],\n",
    "    minibatch_size=gan_params['minibatch_size'],\n",
    "    microbatch_size=gan_params['microbatch_size'],\n",
    "    nonprivate=gan_params['nonprivate'],\n",
    "    params=discriminator.parameters(),\n",
    "    lr=gan_params['lr'],\n",
    "    alpha=gan_params['alpha'],\n",
    "    weight_decay=gan_params['l2_penalty'],\n",
    ")\n",
    "\n",
    "#print(generator)\n",
    "#print(discriminator)"
   ]
  },
  {
   "cell_type": "code",
   "execution_count": 561,
   "metadata": {},
   "outputs": [
    {
     "name": "stdout",
     "output_type": "stream",
     "text": [
      "Achieves (0.013778613747352375, 0.001)-DP\n"
     ]
    }
   ],
   "source": [
    "# privacy analysis\n",
    "print('Achieves ({}, {})-DP'.format(\n",
    "    analysis.epsilon(\n",
    "        len(X_train_encoded),\n",
    "        gan_params['minibatch_size'],\n",
    "        gan_params['noise_multiplier'],\n",
    "        gan_params['iterations'],\n",
    "        gan_params['delta']\n",
    "    ),\n",
    "    gan_params['delta'],\n",
    "))"
   ]
  },
  {
   "cell_type": "code",
   "execution_count": 562,
   "metadata": {},
   "outputs": [],
   "source": [
    "# create data loader\n",
    "minibatch_loader, microbatch_loader = sampling.get_data_loaders(\n",
    "    minibatch_size=gan_params['minibatch_size'],\n",
    "    microbatch_size=gan_params['microbatch_size'],\n",
    "    iterations=gan_params['iterations'],\n",
    "    nonprivate=gan_params['nonprivate'],\n",
    ")"
   ]
  },
  {
   "cell_type": "code",
   "execution_count": 563,
   "metadata": {
    "scrolled": false
   },
   "outputs": [
    {
     "name": "stdout",
     "output_type": "stream",
     "text": [
      "[Iteration 0/50] [D loss: -0.023904] [G loss: 0.000283]\n"
     ]
    },
    {
     "data": {
      "image/png": "[encoded data removed]",
      "text/plain": [
       "<Figure size 432x288 with 1 Axes>"
      ]
     },
     "metadata": {
      "needs_background": "light"
     },
     "output_type": "display_data"
    },
    {
     "name": "stdout",
     "output_type": "stream",
     "text": [
      "[Iteration 10/50] [D loss: 0.000001] [G loss: 0.000283]\n"
     ]
    },
    {
     "data": {
      "image/png": "[encoded data removed]",
      "text/plain": [
       "<Figure size 432x288 with 1 Axes>"
      ]
     },
     "metadata": {
      "needs_background": "light"
     },
     "output_type": "display_data"
    },
    {
     "name": "stdout",
     "output_type": "stream",
     "text": [
      "[Iteration 20/50] [D loss: 0.000005] [G loss: -0.009953]\n"
     ]
    },
    {
     "data": {
      "image/png": "[encoded data removed]",
      "text/plain": [
       "<Figure size 432x288 with 1 Axes>"
      ]
     },
     "metadata": {
      "needs_background": "light"
     },
     "output_type": "display_data"
    },
    {
     "name": "stdout",
     "output_type": "stream",
     "text": [
      "[Iteration 30/50] [D loss: -0.000001] [G loss: -0.006864]\n"
     ]
    },
    {
     "data": {
      "image/png": "[encoded data removed]",
      "text/plain": [
       "<Figure size 432x288 with 1 Axes>"
      ]
     },
     "metadata": {
      "needs_background": "light"
     },
     "output_type": "display_data"
    },
    {
     "name": "stdout",
     "output_type": "stream",
     "text": [
      "[Iteration 40/50] [D loss: -0.000005] [G loss: -0.006864]\n"
     ]
    },
    {
     "data": {
      "image/png": "[encoded data removed]",
      "text/plain": [
       "<Figure size 432x288 with 1 Axes>"
      ]
     },
     "metadata": {
      "needs_background": "light"
     },
     "output_type": "display_data"
    }
   ],
   "source": [
    "# train GAN\n",
    "X_train_encoded = X_train_encoded.to(gan_params['device'])\n",
    "X_test_encoded = X_test_encoded.to(ae_params['device'])\n",
    "\n",
    "for iteration, X_minibatch in enumerate(minibatch_loader(X_train_encoded)):\n",
    "    \n",
    "    d_optimizer.zero_grad()\n",
    "    \n",
    "    for real in microbatch_loader(X_minibatch):\n",
    "        z = torch.randn(real.size(0), gan_params['latent_dim'], device=gan_params['device'])\n",
    "        fake = decoder(generator(z)).detach()\n",
    "        \n",
    "        d_optimizer.zero_microbatch_grad()\n",
    "        d_loss = -torch.mean(discriminator(real)) + torch.mean(discriminator(fake))\n",
    "        d_loss.backward()\n",
    "        d_optimizer.microbatch_step()\n",
    "    \n",
    "    d_optimizer.step()\n",
    "\n",
    "    for parameter in discriminator.parameters():\n",
    "        parameter.data.clamp_(-gan_params['clip_value'], gan_params['clip_value'])\n",
    "\n",
    "    if iteration % gan_params['d_updates'] == 0:\n",
    "        z = torch.randn(X_minibatch.size(0), gan_params['latent_dim'], device=gan_params['device'])\n",
    "        fake = decoder(generator(z))\n",
    "\n",
    "        g_optimizer.zero_grad()\n",
    "        g_loss = -torch.mean(discriminator(fake))\n",
    "        g_loss.backward()\n",
    "        g_optimizer.step()\n",
    "\n",
    "    if iteration % 10 == 0:\n",
    "        print('[Iteration %d/%d] [D loss: %f] [G loss: %f]' % (\n",
    "            iteration, gan_params['iterations'], d_loss.item(), g_loss.item()\n",
    "        ))\n",
    "        \n",
    "        z = torch.randn(len(X_train_real), gan_params['latent_dim'], device=gan_params['device'])\n",
    "        X_synthetic_encoded = decoder(generator(z)).cpu().detach().numpy()\n",
    "        X_synthetic_real = processor.inverse_transform(X_synthetic_encoded)\n",
    "        X_synthetic_encoded = processor.transform(X_synthetic_real)\n",
    "        synthetic_data = pd.DataFrame(X_synthetic_real, columns=df.columns)\n",
    "\n",
    "        i = 0\n",
    "        columns = df.columns\n",
    "        df[columns[i]].hist(bins=17, alpha=0.5)\n",
    "        synthetic_data[columns[i]].hist(bins=17, alpha=0.5)\n",
    "        plt.show()"
   ]
  },
  {
   "cell_type": "code",
   "execution_count": 578,
   "metadata": {},
   "outputs": [],
   "source": [
    "# save GAN\n",
    "with open('models/model_12_gan_0.01_0.001.dat', 'wb') as f:\n",
    "    torch.save(generator, f)"
   ]
  },
  {
   "cell_type": "code",
   "execution_count": 564,
   "metadata": {},
   "outputs": [],
   "source": [
    "# create mapping\n",
    "mapping = dict(enumerate(df_orig['orig'].astype('category').cat.categories))"
   ]
  },
  {
   "cell_type": "code",
   "execution_count": null,
   "metadata": {},
   "outputs": [],
   "source": [
    "# save and load GAN\n",
    "with open('models/model_12_gan_0.1_0.01.dat', 'rb') as f:\n",
    "    generator = torch.load(f)\n",
    "    \n",
    "with open('models/model_12_ae_0.1_0.01.dat', 'rb') as f:\n",
    "    autoencoder = torch.load(f)"
   ]
  },
  {
   "cell_type": "code",
   "execution_count": 569,
   "metadata": {},
   "outputs": [],
   "source": [
    "# create synthetic data log\n",
    "decoder = autoencoder.get_decoder()\n",
    "\n",
    "#z = torch.randn(13087*100, gan_params['latent_dim'], device=gan_params['device'])\n",
    "z = torch.randn(13087*100, 64, device='cpu')\n",
    "X_synthetic_encoded = decoder(generator(z)).cpu().detach().numpy()\n",
    "X_synthetic_real = processor.inverse_transform(X_synthetic_encoded)\n",
    "synthetic_data = pd.DataFrame(X_synthetic_real, columns=df.columns)"
   ]
  },
  {
   "cell_type": "code",
   "execution_count": 570,
   "metadata": {},
   "outputs": [
    {
     "data": {
      "text/plain": [
       "1     5719\n",
       "11    1640\n",
       "15    1100\n",
       "16    1085\n",
       "12     802\n",
       "10     590\n",
       "14     532\n",
       "9      465\n",
       "6      327\n",
       "7      322\n",
       "13     183\n",
       "8      154\n",
       "2       69\n",
       "4       66\n",
       "5       29\n",
       "3        3\n",
       "0        1\n",
       "Name: variant, dtype: int64"
      ]
     },
     "execution_count": 570,
     "metadata": {},
     "output_type": "execute_result"
    }
   ],
   "source": [
    "# example debugging output\n",
    "df['variant'].value_counts()"
   ]
  },
  {
   "cell_type": "code",
   "execution_count": 571,
   "metadata": {},
   "outputs": [
    {
     "data": {
      "text/plain": [
       "1.0     336712\n",
       "6.0     292118\n",
       "7.0     138841\n",
       "15.0    116151\n",
       "16.0    111843\n",
       "12.0    107966\n",
       "2.0      67040\n",
       "14.0     50313\n",
       "4.0      26430\n",
       "11.0     26176\n",
       "10.0     15880\n",
       "5.0       7441\n",
       "13.0      5062\n",
       "9.0       3696\n",
       "8.0       2468\n",
       "0.0        385\n",
       "3.0        178\n",
       "Name: variant, dtype: int64"
      ]
     },
     "execution_count": 571,
     "metadata": {},
     "output_type": "execute_result"
    }
   ],
   "source": [
    "# example debugging output\n",
    "synthetic_data['variant'].value_counts()\n"
   ]
  },
  {
   "cell_type": "code",
   "execution_count": 572,
   "metadata": {},
   "outputs": [],
   "source": [
    "# reverse variant names\n",
    "def reverse(df, mapping):\n",
    "    \n",
    "    var_list = dict()\n",
    "    \n",
    "    for var in df:\n",
    "        \n",
    "        name = mapping[int(var)]\n",
    "        \n",
    "        if name in var_list:\n",
    "            var_list[name] += 1\n",
    "        else:\n",
    "            var_list[name] = 1\n",
    "    \n",
    "    return var_list\n",
    "\n",
    "var_orig = reverse(df['variant'], mapping)\n",
    "var_priv = reverse(synthetic_data['variant'], mapping)"
   ]
  },
  {
   "cell_type": "code",
   "execution_count": 573,
   "metadata": {},
   "outputs": [
    {
     "data": {
      "text/plain": [
       "17"
      ]
     },
     "execution_count": 573,
     "metadata": {},
     "output_type": "execute_result"
    }
   ],
   "source": [
    "# align variant numbers for plotting\n",
    "for var in var_orig:\n",
    "    \n",
    "    if var not in var_priv.keys():\n",
    "        var_priv[var] = 0\n",
    "        \n",
    "len(var_priv)"
   ]
  },
  {
   "cell_type": "code",
   "execution_count": 385,
   "metadata": {},
   "outputs": [
    {
     "data": {
      "text/plain": [
       "<BarContainer object of 17 artists>"
      ]
     },
     "execution_count": 385,
     "metadata": {},
     "output_type": "execute_result"
    },
    {
     "data": {
      "image/png": "[encoded data removed]",
      "text/plain": [
       "<Figure size 720x216 with 1 Axes>"
      ]
     },
     "metadata": {
      "needs_background": "light"
     },
     "output_type": "display_data"
    }
   ],
   "source": [
    "# debugging plots\n",
    "pri = {k:v/100 for (k, v) in var_priv.items()}\n",
    "plt.figure(figsize=(10,3))\n",
    "plt.bar(*zip(*var_orig.items()), color='b', alpha=0.5)\n",
    "plt.bar(*zip(*pri.items()), color='r', alpha=0.5)"
   ]
  },
  {
   "cell_type": "code",
   "execution_count": 24,
   "metadata": {},
   "outputs": [
    {
     "data": {
      "text/plain": [
       "<BarContainer object of 17 artists>"
      ]
     },
     "execution_count": 24,
     "metadata": {},
     "output_type": "execute_result"
    },
    {
     "data": {
      "image/png": "[encoded data removed]",
      "text/plain": [
       "<Figure size 720x216 with 1 Axes>"
      ]
     },
     "metadata": {
      "needs_background": "light"
     },
     "output_type": "display_data"
    }
   ],
   "source": [
    "# debugging plots\n",
    "pri = {k:v/100 for (k, v) in var_priv.items()}\n",
    "plt.figure(figsize=(10,3))\n",
    "plt.bar(*zip(*var_orig.items()), color='b', alpha=0.5)\n",
    "plt.bar(*zip(*pri.items()), color='r', alpha=0.5)"
   ]
  },
  {
   "cell_type": "code",
   "execution_count": 574,
   "metadata": {},
   "outputs": [
    {
     "data": {
      "text/plain": [
       "<BarContainer object of 17 artists>"
      ]
     },
     "execution_count": 574,
     "metadata": {},
     "output_type": "execute_result"
    },
    {
     "data": {
      "image/png": "[encoded data removed]",
      "text/plain": [
       "<Figure size 720x216 with 1 Axes>"
      ]
     },
     "metadata": {
      "needs_background": "light"
     },
     "output_type": "display_data"
    }
   ],
   "source": [
    "# debugging plots\n",
    "pri = {k:int(v/100) for (k, v) in var_priv.items()}\n",
    "plt.figure(figsize=(10,3))\n",
    "plt.bar(*zip(*var_orig.items()), color='b', alpha=0.5)\n",
    "plt.bar(*zip(*pri.items()), color='r', alpha=0.5)"
   ]
  },
  {
   "cell_type": "code",
   "execution_count": 575,
   "metadata": {},
   "outputs": [
    {
     "data": {
      "text/plain": [
       "9569"
      ]
     },
     "execution_count": 575,
     "metadata": {},
     "output_type": "execute_result"
    }
   ],
   "source": [
    "# debugging abs log diff\n",
    "log_diff(var_orig, pri)"
   ]
  },
  {
   "cell_type": "code",
   "execution_count": 576,
   "metadata": {},
   "outputs": [
    {
     "data": {
      "text/plain": [
       "0.86985066620125"
      ]
     },
     "execution_count": 576,
     "metadata": {},
     "output_type": "execute_result"
    }
   ],
   "source": [
    "# debugging rel log sim\n",
    "emd_utility(var_orig, pri)"
   ]
  },
  {
   "cell_type": "code",
   "execution_count": 577,
   "metadata": {},
   "outputs": [],
   "source": [
    "# save private logs\n",
    "fp = open(f\"logs/variants_gan_0.01_0.001.json\", \"w\")\n",
    "json.dump(pri, fp)\n",
    "fp.close()"
   ]
  },
  {
   "cell_type": "code",
   "execution_count": null,
   "metadata": {},
   "outputs": [],
   "source": [
    "# DATA UTILITY RESULTS\n",
    "\n",
    "        # 0.01      # 0.001     # 0.0001    # 0.00001   # 0.000001\n",
    "# 2     0.96           0.94          0.91      0.95         0.95\n",
    "# 1     0.92           0.95         0.90      0.95          0.9\n",
    "# 0.1   0.94           0.92          0.94       0.9          0.87\n",
    "# 0.01  0.90            0.86         0.88       0.85          0.89\n",
    "# 0.001"
   ]
  },
  {
   "cell_type": "code",
   "execution_count": 77,
   "metadata": {},
   "outputs": [],
   "source": [
    "# RESULT UTILITY RESULTS\n",
    "\n",
    "        # 0.01      # 0.001     # 0.0001    # 0.00001   # 0.000001\n",
    "# 2     7000          5k            6500        4k           6k\n",
    "# 1     6100          7k           10000       7k           6k\n",
    "# 0.1   8400          12k          8600        16k          12k     \n",
    "# 0.01  15000          9k          11622       18k           15k\n",
    "# 0.001"
   ]
  }
 ],
 "metadata": {
  "interpreter": {
   "hash": "e6a03f261ac63240f8bba312c3054c35c7091234d5590acf2f05ed98611aef5f"
  },
  "kernelspec": {
   "display_name": "Python 3.10.2 64-bit",
   "language": "python",
   "name": "python3"
  },
  "language_info": {
   "codemirror_mode": {
    "name": "ipython",
    "version": 3
   },
   "file_extension": ".py",
   "mimetype": "text/x-python",
   "name": "python",
   "nbconvert_exporter": "python",
   "pygments_lexer": "ipython3",
   "version": "3.10.2"
  }
 },
 "nbformat": 4,
 "nbformat_minor": 2
}
