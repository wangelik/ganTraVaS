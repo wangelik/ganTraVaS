{
 "cells": [
  {
   "cell_type": "code",
   "execution_count": 1,
   "metadata": {},
   "outputs": [],
   "source": [
    "# import table\n",
    "import pandas as pd\n",
    "import numpy as np\n",
    "import matplotlib.pyplot as plt\n",
    "import random as ra\n",
    "import json\n",
    "%matplotlib inline\n",
    "\n",
    "import torch\n",
    "from torch import nn\n",
    "import torch.nn.functional as F\n",
    "\n",
    "from dp_processor import Processor\n",
    "from dp_wgan import Generator, Discriminator\n",
    "from dp_autoencoder import Autoencoder\n",
    "import dp_optimizer, sampling, analysis\n",
    "\n",
    "from pm4py.objects.log.importer.xes import importer\n",
    "from pm4py.algo.filtering.log.variants import variants_filter\n",
    "\n",
    "from dpv.data_utility import emd_utility, log_diff\n",
    "\n",
    "\n",
    "# settings\n",
    "torch.manual_seed(0)\n",
    "np.random.seed(0)"
   ]
  },
  {
   "cell_type": "code",
   "execution_count": 2,
   "metadata": {},
   "outputs": [
    {
     "name": "stderr",
     "output_type": "stream",
     "text": [
      "parsing log, completed traces :: 100%|██████████| 7554/7554 [00:01<00:00, 4524.00it/s]\n"
     ]
    }
   ],
   "source": [
    "# import xes event log (BPIC2012 example)\n",
    "log = importer.apply('BPIC13.xes')"
   ]
  },
  {
   "cell_type": "code",
   "execution_count": 3,
   "metadata": {},
   "outputs": [
    {
     "data": {
      "text/plain": [
       "1511"
      ]
     },
     "execution_count": 3,
     "metadata": {},
     "output_type": "execute_result"
    }
   ],
   "source": [
    "# extract variants\n",
    "variants = variants_filter.get_variants(log)\n",
    "\n",
    "# number of variants\n",
    "len(variants)"
   ]
  },
  {
   "cell_type": "code",
   "execution_count": 586,
   "metadata": {},
   "outputs": [
    {
     "data": {
      "text/html": [
       "<div>\n",
       "<style scoped>\n",
       "    .dataframe tbody tr th:only-of-type {\n",
       "        vertical-align: middle;\n",
       "    }\n",
       "\n",
       "    .dataframe tbody tr th {\n",
       "        vertical-align: top;\n",
       "    }\n",
       "\n",
       "    .dataframe thead th {\n",
       "        text-align: right;\n",
       "    }\n",
       "</style>\n",
       "<table border=\"1\" class=\"dataframe\">\n",
       "  <thead>\n",
       "    <tr style=\"text-align: right;\">\n",
       "      <th></th>\n",
       "      <th>variant</th>\n",
       "    </tr>\n",
       "  </thead>\n",
       "  <tbody>\n",
       "    <tr>\n",
       "      <th>0</th>\n",
       "      <td>Accepted,Accepted,Completed</td>\n",
       "    </tr>\n",
       "    <tr>\n",
       "      <th>1</th>\n",
       "      <td>Accepted,Accepted,Completed</td>\n",
       "    </tr>\n",
       "    <tr>\n",
       "      <th>2</th>\n",
       "      <td>Accepted,Accepted,Queued,Accepted,Accepted,Acc...</td>\n",
       "    </tr>\n",
       "    <tr>\n",
       "      <th>3</th>\n",
       "      <td>Accepted,Accepted,Queued,Accepted,Accepted,Com...</td>\n",
       "    </tr>\n",
       "    <tr>\n",
       "      <th>4</th>\n",
       "      <td>Accepted,Accepted,Completed,Completed</td>\n",
       "    </tr>\n",
       "    <tr>\n",
       "      <th>...</th>\n",
       "      <td>...</td>\n",
       "    </tr>\n",
       "    <tr>\n",
       "      <th>7549</th>\n",
       "      <td>Accepted,Accepted,Queued,Accepted,Accepted,Acc...</td>\n",
       "    </tr>\n",
       "    <tr>\n",
       "      <th>7550</th>\n",
       "      <td>Accepted,Accepted,Accepted,Queued,Accepted,Que...</td>\n",
       "    </tr>\n",
       "    <tr>\n",
       "      <th>7551</th>\n",
       "      <td>Accepted,Accepted,Queued,Accepted,Accepted,Com...</td>\n",
       "    </tr>\n",
       "    <tr>\n",
       "      <th>7552</th>\n",
       "      <td>Accepted,Accepted,Queued,Accepted,Accepted,Que...</td>\n",
       "    </tr>\n",
       "    <tr>\n",
       "      <th>7553</th>\n",
       "      <td>Accepted,Accepted,Completed</td>\n",
       "    </tr>\n",
       "  </tbody>\n",
       "</table>\n",
       "<p>7554 rows × 1 columns</p>\n",
       "</div>"
      ],
      "text/plain": [
       "                                                variant\n",
       "0                           Accepted,Accepted,Completed\n",
       "1                           Accepted,Accepted,Completed\n",
       "2     Accepted,Accepted,Queued,Accepted,Accepted,Acc...\n",
       "3     Accepted,Accepted,Queued,Accepted,Accepted,Com...\n",
       "4                 Accepted,Accepted,Completed,Completed\n",
       "...                                                 ...\n",
       "7549  Accepted,Accepted,Queued,Accepted,Accepted,Acc...\n",
       "7550  Accepted,Accepted,Accepted,Queued,Accepted,Que...\n",
       "7551  Accepted,Accepted,Queued,Accepted,Accepted,Com...\n",
       "7552  Accepted,Accepted,Queued,Accepted,Accepted,Que...\n",
       "7553                        Accepted,Accepted,Completed\n",
       "\n",
       "[7554 rows x 1 columns]"
      ]
     },
     "execution_count": 586,
     "metadata": {},
     "output_type": "execute_result"
    }
   ],
   "source": [
    "# create dataframe\n",
    "var_log = []\n",
    "\n",
    "for var in variants:\n",
    "    var_log += [var] * len(variants[var])\n",
    "    \n",
    "ra.shuffle(var_log)\n",
    "df = pd.DataFrame({'variant': var_log})\n",
    "df_orig = pd.DataFrame({'orig': var_log})\n",
    "df"
   ]
  },
  {
   "cell_type": "code",
   "execution_count": 587,
   "metadata": {},
   "outputs": [
    {
     "name": "stdout",
     "output_type": "stream",
     "text": [
      "tensor([[0., 0., 0.,  ..., 0., 0., 0.],\n",
      "        [0., 0., 0.,  ..., 0., 0., 0.],\n",
      "        [0., 0., 0.,  ..., 0., 0., 0.],\n",
      "        ...,\n",
      "        [0., 0., 0.,  ..., 0., 0., 0.],\n",
      "        [0., 0., 0.,  ..., 0., 0., 0.],\n",
      "        [0., 0., 0.,  ..., 0., 0., 0.]]) torch.Size([7478, 1511])\n",
      "tensor([[0., 0., 0.,  ..., 0., 0., 0.],\n",
      "        [0., 0., 0.,  ..., 0., 0., 0.],\n",
      "        [0., 0., 0.,  ..., 0., 0., 0.],\n",
      "        ...,\n",
      "        [0., 0., 0.,  ..., 0., 0., 0.],\n",
      "        [0., 0., 0.,  ..., 0., 0., 0.],\n",
      "        [0., 0., 0.,  ..., 0., 0., 0.]]) torch.Size([76, 1511])\n"
     ]
    }
   ],
   "source": [
    "# init data processor\n",
    "datatypes = [('variant', 'categorical')]\n",
    "processor = Processor(datatypes)\n",
    "\n",
    "# encode categories\n",
    "for column, datatype in datatypes:\n",
    "    if 'categorical' in datatype:\n",
    "        df[column] = df[column].astype('category').cat.codes\n",
    "\n",
    "# init training data\n",
    "train_df = df.head(int(len(df)*0.99))\n",
    "train_cutoff = int(len(df)*0.99)\n",
    "\n",
    "# create tensor data\n",
    "X_real = torch.tensor(df.values, dtype=torch.float32)\n",
    "X_encoded = torch.tensor(processor.fit_transform(X_real), dtype=torch.float32)\n",
    "\n",
    "# create train / test tensors\n",
    "X_train_real = X_real[:train_cutoff]\n",
    "X_test_real = X_real[train_cutoff:]\n",
    "\n",
    "# create encoded train / test tensors\n",
    "X_train_encoded = X_encoded[:train_cutoff]\n",
    "X_test_encoded = X_encoded[train_cutoff:]\n",
    "\n",
    "# print preview\n",
    "print(X_train_encoded, X_train_encoded.shape)\n",
    "print(X_test_encoded, X_test_encoded.shape)"
   ]
  },
  {
   "cell_type": "code",
   "execution_count": 588,
   "metadata": {},
   "outputs": [],
   "source": [
    "# autoencoder config\n",
    "ae_params = {\n",
    "    'b1': 0.9,\n",
    "    'b2': 0.999,\n",
    "    'binary': True,\n",
    "    'compress_dim': 128,\n",
    "    'delta': 1e-6,\n",
    "    'device': 'cpu',\n",
    "    'iterations': 20000,\n",
    "    'lr': 0.005,\n",
    "    'l2_penalty': 0.,\n",
    "    'l2_norm_clip': 0.012,\n",
    "    'minibatch_size': 64,\n",
    "    'microbatch_size': 1,\n",
    "    'noise_multiplier': 6,\n",
    "    'nonprivate': True,\n",
    "}\n",
    "\n",
    "# OPTIMIZED HYPERPARAMETER\n",
    "\n",
    "# 0.01\n",
    "# 2 : 1.9, 64, 20000\n",
    "# 1 : 4, 64, 20000\n",
    "# 0.1 : 10, 32, 20000\n",
    "# 0.01: 100, 64, 20000\n",
    "\n",
    "# 0.001\n",
    "# 2: 2.5 64 20k\n",
    "# 1: 4.7 64 20k \n",
    "# 0.1: 11 32 20k \n",
    "# 0.01: 140 64 20k\n",
    "\n",
    "# 0.0001\n",
    "# 2: 2.8, 64, 20k\n",
    "# 1: 5.5, 64, 20k\n",
    "# 0.1: 20, 64, 20k\n",
    "# 0.01: 180, 64, 20k\n",
    "\n",
    "# -5\n",
    "# 2: 3 64 20k\n",
    "# 1: 5.3 64 20k\n",
    "# 0.1: 25 64 20k\n",
    "# 0.01: 220 64 20k\n",
    "\n",
    "# -6\n",
    "# 2: 3.5 64 20k\n",
    "# 1: 6 64 20k\n",
    "# 0.1: 30 64 20k\n",
    "# 0.01: 270 64 20k\n",
    "\n",
    "# init autoencoder\n",
    "autoencoder = Autoencoder(\n",
    "    example_dim=len(X_train_encoded[0]),\n",
    "    compression_dim=ae_params['compress_dim'],\n",
    "    binary=ae_params['binary'],\n",
    "    device=ae_params['device'],\n",
    ")\n",
    "\n",
    "# init decoding optimizer\n",
    "decoder_optimizer = dp_optimizer.DPAdam(\n",
    "    l2_norm_clip=ae_params['l2_norm_clip'],\n",
    "    noise_multiplier=ae_params['noise_multiplier'],\n",
    "    minibatch_size=ae_params['minibatch_size'],\n",
    "    microbatch_size=ae_params['microbatch_size'],\n",
    "    nonprivate=ae_params['nonprivate'],\n",
    "    params=autoencoder.get_decoder().parameters(),\n",
    "    lr=ae_params['lr'],\n",
    "    betas=(ae_params['b1'], ae_params['b2']),\n",
    "    weight_decay=ae_params['l2_penalty'],\n",
    ")\n",
    "\n",
    "# init encoding optimizer\n",
    "encoder_optimizer = torch.optim.Adam(\n",
    "    params=autoencoder.get_encoder().parameters(),\n",
    "    lr=ae_params['lr'] * ae_params['microbatch_size'] / ae_params['minibatch_size'],\n",
    "    betas=(ae_params['b1'], ae_params['b2']),\n",
    "    weight_decay=ae_params['l2_penalty'],\n",
    ")"
   ]
  },
  {
   "cell_type": "code",
   "execution_count": 589,
   "metadata": {},
   "outputs": [
    {
     "name": "stdout",
     "output_type": "stream",
     "text": [
      "Autoencoder(\n",
      "  (encoder): Sequential(\n",
      "    (0): Linear(in_features=1511, out_features=819, bias=True)\n",
      "    (1): Tanh()\n",
      "    (2): Linear(in_features=819, out_features=128, bias=True)\n",
      "    (3): Tanh()\n",
      "  )\n",
      "  (decoder): Sequential(\n",
      "    (0): Linear(in_features=128, out_features=819, bias=True)\n",
      "    (1): Tanh()\n",
      "    (2): Linear(in_features=819, out_features=1511, bias=True)\n",
      "    (3): Sigmoid()\n",
      "  )\n",
      ")\n"
     ]
    }
   ],
   "source": [
    "\"\"\"\n",
    "weights, ds = [], []\n",
    "for name, datatype in datatypes:\n",
    "    if 'categorical' in datatype:\n",
    "        num_values = len(np.unique(df[name]))\n",
    "        if num_values == 2:\n",
    "            weights.append(1.)\n",
    "            ds.append((datatype, 1))\n",
    "        else:\n",
    "            for i in range(num_values):\n",
    "                weights.append(1. / num_values)\n",
    "            ds.append((datatype, num_values))\n",
    "    else:\n",
    "        weights.append(1.)\n",
    "        ds.append((datatype, 1))\n",
    "weights = torch.tensor(weights).to(ae_params['device'])\n",
    "\"\"\"\n",
    "\n",
    "# define loss\n",
    "#autoencoder_loss = (lambda input, target: torch.mul(weights, torch.pow(input-target, 2)).sum(dim=1).mean(dim=0))\n",
    "#autoencoder_loss = lambda input, target: torch.mul(weights, F.binary_cross_entropy(input, target, reduction='none')).sum(dim=1).mean(dim=0)\n",
    "autoencoder_loss = nn.BCELoss()\n",
    "#autoencoder_loss = nn.MSELoss()\n",
    "\n",
    "# print network structure\n",
    "print(autoencoder)"
   ]
  },
  {
   "cell_type": "code",
   "execution_count": 590,
   "metadata": {},
   "outputs": [
    {
     "name": "stdout",
     "output_type": "stream",
     "text": [
      "Achieves (1.0917388663826904, 1e-06)-DP\n"
     ]
    }
   ],
   "source": [
    "# DP parameter analysis\n",
    "print('Achieves ({}, {})-DP'.format(\n",
    "    analysis.epsilon(\n",
    "        len(X_train_encoded),\n",
    "        ae_params['minibatch_size'],\n",
    "        ae_params['noise_multiplier'],\n",
    "        ae_params['iterations'],\n",
    "        ae_params['delta']\n",
    "    ),\n",
    "    ae_params['delta'],\n",
    "))"
   ]
  },
  {
   "cell_type": "code",
   "execution_count": 591,
   "metadata": {},
   "outputs": [],
   "source": [
    "# init data loader\n",
    "minibatch_loader, microbatch_loader = sampling.get_data_loaders(\n",
    "    minibatch_size=ae_params['minibatch_size'],\n",
    "    microbatch_size=ae_params['microbatch_size'],\n",
    "    iterations=ae_params['iterations'],\n",
    "    nonprivate=ae_params['nonprivate'],\n",
    ")"
   ]
  },
  {
   "cell_type": "code",
   "execution_count": 592,
   "metadata": {},
   "outputs": [
    {
     "name": "stdout",
     "output_type": "stream",
     "text": [
      "[Iteration 0/20000] [Loss: 0.693621] [Validation Loss: 0.693625]\n",
      "[Iteration 1000/20000] [Loss: 0.004564] [Validation Loss: 0.004265]\n",
      "[Iteration 2000/20000] [Loss: 0.003865] [Validation Loss: 0.003380]\n",
      "[Iteration 3000/20000] [Loss: 0.002888] [Validation Loss: 0.002445]\n",
      "[Iteration 4000/20000] [Loss: 0.002254] [Validation Loss: 0.001770]\n",
      "[Iteration 5000/20000] [Loss: 0.001683] [Validation Loss: 0.001429]\n",
      "[Iteration 6000/20000] [Loss: 0.000983] [Validation Loss: 0.001166]\n",
      "[Iteration 7000/20000] [Loss: 0.000617] [Validation Loss: 0.000933]\n",
      "[Iteration 8000/20000] [Loss: 0.000735] [Validation Loss: 0.000912]\n",
      "[Iteration 9000/20000] [Loss: 0.000633] [Validation Loss: 0.000933]\n",
      "[Iteration 10000/20000] [Loss: 0.000421] [Validation Loss: 0.000911]\n",
      "[Iteration 11000/20000] [Loss: 0.000581] [Validation Loss: 0.001046]\n",
      "[Iteration 12000/20000] [Loss: 0.000419] [Validation Loss: 0.001215]\n",
      "[Iteration 13000/20000] [Loss: 0.000546] [Validation Loss: 0.001243]\n",
      "[Iteration 14000/20000] [Loss: 0.000640] [Validation Loss: 0.001344]\n",
      "[Iteration 15000/20000] [Loss: 0.000353] [Validation Loss: 0.001219]\n",
      "[Iteration 16000/20000] [Loss: 0.000300] [Validation Loss: 0.001211]\n",
      "[Iteration 17000/20000] [Loss: 0.000287] [Validation Loss: 0.001165]\n",
      "[Iteration 18000/20000] [Loss: 0.000345] [Validation Loss: 0.001271]\n",
      "[Iteration 19000/20000] [Loss: 0.000326] [Validation Loss: 0.001249]\n"
     ]
    },
    {
     "data": {
      "text/plain": [
       "<AxesSubplot:>"
      ]
     },
     "execution_count": 592,
     "metadata": {},
     "output_type": "execute_result"
    },
    {
     "data": {
      "image/png": "[encoded data removed]",
      "text/plain": [
       "<Figure size 432x288 with 1 Axes>"
      ]
     },
     "metadata": {
      "needs_background": "light"
     },
     "output_type": "display_data"
    }
   ],
   "source": [
    "# train autoencoder\n",
    "train_losses, validation_losses = [], []\n",
    "\n",
    "X_train_encoded = X_train_encoded.to(ae_params['device'])\n",
    "X_test_encoded = X_test_encoded.to(ae_params['device'])\n",
    "\n",
    "for iteration, X_minibatch in enumerate(minibatch_loader(X_train_encoded)):\n",
    "    \n",
    "    encoder_optimizer.zero_grad()\n",
    "    decoder_optimizer.zero_grad()\n",
    "    \n",
    "    for X_microbatch in microbatch_loader(X_minibatch):\n",
    "\n",
    "        decoder_optimizer.zero_microbatch_grad()\n",
    "        output = autoencoder(X_microbatch)\n",
    "        loss = autoencoder_loss(output, X_microbatch)\n",
    "        loss.backward()\n",
    "        decoder_optimizer.microbatch_step()\n",
    "        \n",
    "    validation_loss = autoencoder_loss(autoencoder(X_test_encoded).detach(), X_test_encoded)\n",
    "    \n",
    "    encoder_optimizer.step()\n",
    "    decoder_optimizer.step()\n",
    "\n",
    "    train_losses.append(loss.item())\n",
    "    validation_losses.append(validation_loss.item())\n",
    "\n",
    "    if iteration % 1000 == 0:\n",
    "        print ('[Iteration %d/%d] [Loss: %f] [Validation Loss: %f]' % (\n",
    "            iteration, ae_params['iterations'], loss.item(), validation_loss.item())\n",
    "        )\n",
    "\n",
    "pd.DataFrame(data={'train': train_losses, 'validation': validation_losses}).plot()"
   ]
  },
  {
   "cell_type": "code",
   "execution_count": 545,
   "metadata": {},
   "outputs": [],
   "source": [
    "# save autoencoder\n",
    "with open('models/model_13_ae_0.01_0.000001.dat', 'wb') as f:\n",
    "    torch.save(autoencoder, f)"
   ]
  },
  {
   "cell_type": "code",
   "execution_count": 564,
   "metadata": {},
   "outputs": [],
   "source": [
    "# load autoencoder\n",
    "with open('models/model_13_ae_0.01_0.01.dat', 'rb') as f:\n",
    "    autoencoder = torch.load(f)\n"
   ]
  },
  {
   "cell_type": "code",
   "execution_count": 593,
   "metadata": {},
   "outputs": [],
   "source": [
    "# extract decoder\n",
    "decoder = autoencoder.get_decoder()"
   ]
  },
  {
   "cell_type": "code",
   "execution_count": 594,
   "metadata": {},
   "outputs": [
    {
     "name": "stdout",
     "output_type": "stream",
     "text": [
      "Generator(\n",
      "  (block_0): Sequential(\n",
      "    (0): Linear(in_features=128, out_features=128, bias=False)\n",
      "    (1): LayerNorm((128,), eps=1e-05, elementwise_affine=True)\n",
      "    (2): Tanh()\n",
      "  )\n",
      "  (block_1): Sequential(\n",
      "    (0): Linear(in_features=128, out_features=128, bias=False)\n",
      "    (1): LayerNorm((128,), eps=1e-05, elementwise_affine=True)\n",
      "    (2): Tanh()\n",
      "  )\n",
      "  (block_2): Sequential(\n",
      "    (0): Linear(in_features=128, out_features=128, bias=False)\n",
      "    (1): LayerNorm((128,), eps=1e-05, elementwise_affine=True)\n",
      "    (2): Tanh()\n",
      "  )\n",
      ")\n",
      "Discriminator(\n",
      "  (model): Sequential(\n",
      "    (0): Linear(in_features=1511, out_features=1007, bias=True)\n",
      "    (1): LeakyReLU(negative_slope=0.2)\n",
      "    (2): Linear(in_features=1007, out_features=503, bias=True)\n",
      "    (3): LeakyReLU(negative_slope=0.2)\n",
      "    (4): Linear(in_features=503, out_features=1, bias=True)\n",
      "  )\n",
      ")\n"
     ]
    }
   ],
   "source": [
    "# GAN config\n",
    "gan_params = {\n",
    "    'alpha': 0.99,\n",
    "    'binary': True,\n",
    "    'clip_value': 0.01,\n",
    "    'd_updates': 15,\n",
    "    'delta': 1e-6,\n",
    "    'device': 'cpu',\n",
    "    'iterations': 1500,\n",
    "    'latent_dim': 128,\n",
    "    'lr': 0.005,\n",
    "    'l2_penalty': 0.,\n",
    "    'l2_norm_clip': 0.022,\n",
    "    'minibatch_size': 128,\n",
    "    'microbatch_size': 1,\n",
    "    'noise_multiplier': 4,\n",
    "    'nonprivate': False,\n",
    "}\n",
    "\n",
    "# OPTIMIZED HYPERPARAMETER\n",
    "\n",
    "# 0.01 noise minibatch iter\n",
    "# 2: 1.3, 128, 1500\n",
    "# 1: 2.4, 128, 2000\n",
    "# 0.1: 10, 128, 1500\n",
    "# 0.01: 60, 128, 1000\n",
    "\n",
    "# 0.001\n",
    "# 2: 1.3 128 1500\n",
    "# 1: 2.5 128 1500\n",
    "# 0.1: 12 128 1500\n",
    "# 0.01: 70 128 1000\n",
    "\n",
    "# 0.0001\n",
    "# 2: 1.6, 128, 1500\n",
    "# 1: 3, 128, 1500\n",
    "# 0.1: 15, 128, 1500\n",
    "# 0.01: 80, 128, 1000\n",
    "\n",
    "# -5 \n",
    "# 2: 1.8 128 1500 \n",
    "# 1: 3.5 128 1500\n",
    "# 0.1: 20 128 1500\n",
    "# 0.01: 100 128 1000\n",
    "\n",
    "# -6\n",
    "# 2: 2 128 1500\n",
    "# 1: 4 128 1500\n",
    "# 0.1: 25 128 1500\n",
    "# 0.01: 160 128 1000\n",
    "\n",
    "generator = Generator(\n",
    "    input_dim=gan_params['latent_dim'],\n",
    "    output_dim=autoencoder.get_compression_dim(),\n",
    "    binary=gan_params['binary'],\n",
    "    device=gan_params['device'],\n",
    ")\n",
    "\n",
    "g_optimizer = torch.optim.RMSprop(\n",
    "    params=generator.parameters(),\n",
    "    lr=gan_params['lr'],\n",
    "    alpha=gan_params['alpha'],\n",
    "    weight_decay=gan_params['l2_penalty'],\n",
    ")\n",
    "\n",
    "discriminator = Discriminator(\n",
    "    input_dim=len(X_train_encoded[0]),\n",
    "    device=gan_params['device'],\n",
    ")\n",
    "\n",
    "d_optimizer = dp_optimizer.DPRMSprop(\n",
    "    l2_norm_clip=gan_params['l2_norm_clip'],\n",
    "    noise_multiplier=gan_params['noise_multiplier'],\n",
    "    minibatch_size=gan_params['minibatch_size'],\n",
    "    microbatch_size=gan_params['microbatch_size'],\n",
    "    nonprivate=gan_params['nonprivate'],\n",
    "    params=discriminator.parameters(),\n",
    "    lr=gan_params['lr'],\n",
    "    alpha=gan_params['alpha'],\n",
    "    weight_decay=gan_params['l2_penalty'],\n",
    ")\n",
    "\n",
    "print(generator)\n",
    "print(discriminator)"
   ]
  },
  {
   "cell_type": "code",
   "execution_count": 595,
   "metadata": {},
   "outputs": [
    {
     "name": "stdout",
     "output_type": "stream",
     "text": [
      "Achieves (0.9145814122504278, 1e-06)-DP\n"
     ]
    }
   ],
   "source": [
    "# privacy analysis\n",
    "print('Achieves ({}, {})-DP'.format(\n",
    "    analysis.epsilon(\n",
    "        len(X_train_encoded),\n",
    "        gan_params['minibatch_size'],\n",
    "        gan_params['noise_multiplier'],\n",
    "        gan_params['iterations'],\n",
    "        gan_params['delta']\n",
    "    ),\n",
    "    gan_params['delta'],\n",
    "))"
   ]
  },
  {
   "cell_type": "code",
   "execution_count": 596,
   "metadata": {},
   "outputs": [],
   "source": [
    "# create data loader\n",
    "minibatch_loader, microbatch_loader = sampling.get_data_loaders(\n",
    "    minibatch_size=gan_params['minibatch_size'],\n",
    "    microbatch_size=gan_params['microbatch_size'],\n",
    "    iterations=gan_params['iterations'],\n",
    "    nonprivate=gan_params['nonprivate'],\n",
    ")"
   ]
  },
  {
   "cell_type": "code",
   "execution_count": 597,
   "metadata": {
    "scrolled": false
   },
   "outputs": [
    {
     "name": "stdout",
     "output_type": "stream",
     "text": [
      "[Iteration 0/1500] [D loss: -0.023906] [G loss: 0.008800]\n"
     ]
    },
    {
     "data": {
      "image/png": "[encoded data removed]",
      "text/plain": [
       "<Figure size 432x288 with 1 Axes>"
      ]
     },
     "metadata": {
      "needs_background": "light"
     },
     "output_type": "display_data"
    },
    {
     "name": "stdout",
     "output_type": "stream",
     "text": [
      "[Iteration 100/1500] [D loss: -0.037729] [G loss: 0.134748]\n"
     ]
    },
    {
     "data": {
      "image/png": "[encoded data removed]",
      "text/plain": [
       "<Figure size 432x288 with 1 Axes>"
      ]
     },
     "metadata": {
      "needs_background": "light"
     },
     "output_type": "display_data"
    },
    {
     "name": "stdout",
     "output_type": "stream",
     "text": [
      "[Iteration 200/1500] [D loss: -0.039008] [G loss: 0.066854]\n"
     ]
    },
    {
     "data": {
      "image/png": "[encoded data removed]",
      "text/plain": [
       "<Figure size 432x288 with 1 Axes>"
      ]
     },
     "metadata": {
      "needs_background": "light"
     },
     "output_type": "display_data"
    },
    {
     "name": "stdout",
     "output_type": "stream",
     "text": [
      "[Iteration 300/1500] [D loss: -0.014390] [G loss: 0.020918]\n"
     ]
    },
    {
     "data": {
      "image/png": "[encoded data removed]",
      "text/plain": [
       "<Figure size 432x288 with 1 Axes>"
      ]
     },
     "metadata": {
      "needs_background": "light"
     },
     "output_type": "display_data"
    },
    {
     "name": "stdout",
     "output_type": "stream",
     "text": [
      "[Iteration 400/1500] [D loss: -0.001687] [G loss: -0.008293]\n"
     ]
    },
    {
     "data": {
      "image/png": "[encoded data removed]",
      "text/plain": [
       "<Figure size 432x288 with 1 Axes>"
      ]
     },
     "metadata": {
      "needs_background": "light"
     },
     "output_type": "display_data"
    },
    {
     "name": "stdout",
     "output_type": "stream",
     "text": [
      "[Iteration 500/1500] [D loss: -0.000427] [G loss: -0.000442]\n"
     ]
    },
    {
     "data": {
      "image/png": "[encoded data removed]",
      "text/plain": [
       "<Figure size 432x288 with 1 Axes>"
      ]
     },
     "metadata": {
      "needs_background": "light"
     },
     "output_type": "display_data"
    },
    {
     "name": "stdout",
     "output_type": "stream",
     "text": [
      "[Iteration 600/1500] [D loss: -0.000288] [G loss: 0.009933]\n"
     ]
    },
    {
     "data": {
      "image/png": "[encoded data removed]",
      "text/plain": [
       "<Figure size 432x288 with 1 Axes>"
      ]
     },
     "metadata": {
      "needs_background": "light"
     },
     "output_type": "display_data"
    },
    {
     "name": "stdout",
     "output_type": "stream",
     "text": [
      "[Iteration 700/1500] [D loss: -0.000325] [G loss: -0.005201]\n"
     ]
    },
    {
     "data": {
      "image/png": "[encoded data removed]",
      "text/plain": [
       "<Figure size 432x288 with 1 Axes>"
      ]
     },
     "metadata": {
      "needs_background": "light"
     },
     "output_type": "display_data"
    },
    {
     "name": "stdout",
     "output_type": "stream",
     "text": [
      "[Iteration 800/1500] [D loss: -0.000454] [G loss: 0.010567]\n"
     ]
    },
    {
     "data": {
      "image/png": "[encoded data removed]",
      "text/plain": [
       "<Figure size 432x288 with 1 Axes>"
      ]
     },
     "metadata": {
      "needs_background": "light"
     },
     "output_type": "display_data"
    },
    {
     "name": "stdout",
     "output_type": "stream",
     "text": [
      "[Iteration 900/1500] [D loss: -0.000324] [G loss: -0.005628]\n"
     ]
    },
    {
     "data": {
      "image/png": "[encoded data removed]",
      "text/plain": [
       "<Figure size 432x288 with 1 Axes>"
      ]
     },
     "metadata": {
      "needs_background": "light"
     },
     "output_type": "display_data"
    },
    {
     "name": "stdout",
     "output_type": "stream",
     "text": [
      "[Iteration 1000/1500] [D loss: -0.000499] [G loss: -0.005668]\n"
     ]
    },
    {
     "data": {
      "image/png": "[encoded data removed]",
      "text/plain": [
       "<Figure size 432x288 with 1 Axes>"
      ]
     },
     "metadata": {
      "needs_background": "light"
     },
     "output_type": "display_data"
    },
    {
     "name": "stdout",
     "output_type": "stream",
     "text": [
      "[Iteration 1100/1500] [D loss: 0.000020] [G loss: 0.004669]\n"
     ]
    },
    {
     "data": {
      "image/png": "[encoded data removed]",
      "text/plain": [
       "<Figure size 432x288 with 1 Axes>"
      ]
     },
     "metadata": {
      "needs_background": "light"
     },
     "output_type": "display_data"
    },
    {
     "name": "stdout",
     "output_type": "stream",
     "text": [
      "[Iteration 1200/1500] [D loss: -0.000454] [G loss: -0.004290]\n"
     ]
    },
    {
     "data": {
      "image/png": "[encoded data removed]",
      "text/plain": [
       "<Figure size 432x288 with 1 Axes>"
      ]
     },
     "metadata": {
      "needs_background": "light"
     },
     "output_type": "display_data"
    },
    {
     "name": "stdout",
     "output_type": "stream",
     "text": [
      "[Iteration 1300/1500] [D loss: -0.000069] [G loss: 0.003566]\n"
     ]
    },
    {
     "data": {
      "image/png": "[encoded data removed]",
      "text/plain": [
       "<Figure size 432x288 with 1 Axes>"
      ]
     },
     "metadata": {
      "needs_background": "light"
     },
     "output_type": "display_data"
    },
    {
     "name": "stdout",
     "output_type": "stream",
     "text": [
      "[Iteration 1400/1500] [D loss: -0.000473] [G loss: -0.002302]\n"
     ]
    },
    {
     "data": {
      "image/png": "[encoded data removed]",
      "text/plain": [
       "<Figure size 432x288 with 1 Axes>"
      ]
     },
     "metadata": {
      "needs_background": "light"
     },
     "output_type": "display_data"
    }
   ],
   "source": [
    "# train GAN\n",
    "X_train_encoded = X_train_encoded.to(gan_params['device'])\n",
    "X_test_encoded = X_test_encoded.to(ae_params['device'])\n",
    "\n",
    "for iteration, X_minibatch in enumerate(minibatch_loader(X_train_encoded)):\n",
    "    \n",
    "    d_optimizer.zero_grad()\n",
    "    \n",
    "    for real in microbatch_loader(X_minibatch):\n",
    "        z = torch.randn(real.size(0), gan_params['latent_dim'], device=gan_params['device'])\n",
    "        fake = decoder(generator(z)).detach()\n",
    "        \n",
    "        d_optimizer.zero_microbatch_grad()\n",
    "        d_loss = -torch.mean(discriminator(real)) + torch.mean(discriminator(fake))\n",
    "        d_loss.backward()\n",
    "        d_optimizer.microbatch_step()\n",
    "    \n",
    "    d_optimizer.step()\n",
    "\n",
    "    for parameter in discriminator.parameters():\n",
    "        parameter.data.clamp_(-gan_params['clip_value'], gan_params['clip_value'])\n",
    "\n",
    "    if iteration % gan_params['d_updates'] == 0:\n",
    "        z = torch.randn(X_minibatch.size(0), gan_params['latent_dim'], device=gan_params['device'])\n",
    "        fake = decoder(generator(z))\n",
    "\n",
    "        g_optimizer.zero_grad()\n",
    "        g_loss = -torch.mean(discriminator(fake))\n",
    "        g_loss.backward()\n",
    "        g_optimizer.step()\n",
    "\n",
    "    if iteration % 100 == 0:\n",
    "        print('[Iteration %d/%d] [D loss: %f] [G loss: %f]' % (\n",
    "            iteration, gan_params['iterations'], d_loss.item(), g_loss.item()\n",
    "        ))\n",
    "        \n",
    "        z = torch.randn(len(X_train_real), gan_params['latent_dim'], device=gan_params['device'])\n",
    "        X_synthetic_encoded = decoder(generator(z)).cpu().detach().numpy()\n",
    "        X_synthetic_real = processor.inverse_transform(X_synthetic_encoded)\n",
    "        X_synthetic_encoded = processor.transform(X_synthetic_real)\n",
    "        synthetic_data = pd.DataFrame(X_synthetic_real, columns=df.columns)\n",
    "\n",
    "        i = 0\n",
    "        columns = df.columns\n",
    "        df[columns[i]].hist(bins=50, alpha=0.5)\n",
    "        synthetic_data[columns[i]].hist(bins=50, alpha=0.5)\n",
    "        plt.show()"
   ]
  },
  {
   "cell_type": "code",
   "execution_count": 572,
   "metadata": {},
   "outputs": [],
   "source": [
    "# save GAN\n",
    "with open('models/model_13_gan_0.01_0.01.dat', 'wb') as f:\n",
    "    torch.save(generator, f)"
   ]
  },
  {
   "cell_type": "code",
   "execution_count": 573,
   "metadata": {},
   "outputs": [],
   "source": [
    "# create mapping\n",
    "mapping = dict(enumerate(df_orig['orig'].astype('category').cat.categories))"
   ]
  },
  {
   "cell_type": "code",
   "execution_count": 31,
   "metadata": {},
   "outputs": [],
   "source": [
    "# save and load GAN\n",
    "with open('models/model_13_gan_0.1_0.01.dat', 'rb') as f:\n",
    "    generator = torch.load(f)\n",
    "    \n",
    "with open('models/model_13_ae_0.1_0.01.dat', 'rb') as f:\n",
    "    autoencoder = torch.load(f)"
   ]
  },
  {
   "cell_type": "code",
   "execution_count": 574,
   "metadata": {},
   "outputs": [],
   "source": [
    "# create synthetic data log\n",
    "decoder = autoencoder.get_decoder()\n",
    "\n",
    "#z = torch.randn(13087*100, gan_params['latent_dim'], device=gan_params['device'])\n",
    "z = torch.randn(7554*100,128, device='cpu')\n",
    "X_synthetic_encoded = decoder(generator(z)).cpu().detach().numpy()\n",
    "X_synthetic_real = processor.inverse_transform(X_synthetic_encoded)\n",
    "synthetic_data = pd.DataFrame(X_synthetic_real, columns=df.columns)"
   ]
  },
  {
   "cell_type": "code",
   "execution_count": 9,
   "metadata": {},
   "outputs": [
    {
     "data": {
      "text/plain": [
       "356     1754\n",
       "418      524\n",
       "757      352\n",
       "666      334\n",
       "1336     300\n",
       "        ... \n",
       "1163       1\n",
       "94         1\n",
       "62         1\n",
       "1214       1\n",
       "1279       1\n",
       "Name: variant, Length: 1511, dtype: int64"
      ]
     },
     "execution_count": 9,
     "metadata": {},
     "output_type": "execute_result"
    }
   ],
   "source": [
    "# example debugging output\n",
    "df['variant'].value_counts()"
   ]
  },
  {
   "cell_type": "code",
   "execution_count": 10,
   "metadata": {},
   "outputs": [
    {
     "data": {
      "text/plain": [
       "356.0     88155\n",
       "451.0     41967\n",
       "1185.0    19926\n",
       "812.0     19460\n",
       "249.0     18641\n",
       "          ...  \n",
       "247.0         1\n",
       "365.0         1\n",
       "1451.0        1\n",
       "44.0          1\n",
       "941.0         1\n",
       "Name: variant, Length: 447, dtype: int64"
      ]
     },
     "execution_count": 10,
     "metadata": {},
     "output_type": "execute_result"
    }
   ],
   "source": [
    "# example debugging output\n",
    "synthetic_data['variant'].value_counts()\n"
   ]
  },
  {
   "cell_type": "code",
   "execution_count": 575,
   "metadata": {},
   "outputs": [],
   "source": [
    "# reverse variant names\n",
    "def reverse(df, mapping):\n",
    "    \n",
    "    var_list = dict()\n",
    "    \n",
    "    for var in df:\n",
    "        \n",
    "        name = mapping[int(var)]\n",
    "        \n",
    "        if name in var_list:\n",
    "            var_list[name] += 1\n",
    "        else:\n",
    "            var_list[name] = 1\n",
    "    \n",
    "    return var_list\n",
    "\n",
    "var_orig = reverse(df['variant'], mapping)\n",
    "var_priv = reverse(synthetic_data['variant'], mapping)"
   ]
  },
  {
   "cell_type": "code",
   "execution_count": 576,
   "metadata": {},
   "outputs": [
    {
     "data": {
      "text/plain": [
       "1511"
      ]
     },
     "execution_count": 576,
     "metadata": {},
     "output_type": "execute_result"
    }
   ],
   "source": [
    "# align variant numbers for plotting\n",
    "for var in var_orig:\n",
    "    \n",
    "    if var not in var_priv.keys():\n",
    "        var_priv[var] = 0\n",
    "        \n",
    "len(var_priv)"
   ]
  },
  {
   "cell_type": "code",
   "execution_count": 292,
   "metadata": {},
   "outputs": [
    {
     "data": {
      "text/plain": [
       "<BarContainer object of 1511 artists>"
      ]
     },
     "execution_count": 292,
     "metadata": {},
     "output_type": "execute_result"
    },
    {
     "name": "stdout",
     "output_type": "stream",
     "text": [
      "Error in callback <function flush_figures at 0x000001AE8375FD00> (for post_execute):\n"
     ]
    },
    {
     "ename": "KeyboardInterrupt",
     "evalue": "",
     "output_type": "error",
     "traceback": [
      "\u001b[1;31m---------------------------------------------------------------------------\u001b[0m",
      "\u001b[1;31mKeyboardInterrupt\u001b[0m                         Traceback (most recent call last)",
      "File \u001b[1;32mc:\\Users\\Wangelik\\AppData\\Local\\Programs\\Python\\Python310\\lib\\site-packages\\matplotlib_inline\\backend_inline.py:121\u001b[0m, in \u001b[0;36mflush_figures\u001b[1;34m()\u001b[0m\n\u001b[0;32m    118\u001b[0m \u001b[39mif\u001b[39;00m InlineBackend\u001b[39m.\u001b[39minstance()\u001b[39m.\u001b[39mclose_figures:\n\u001b[0;32m    119\u001b[0m     \u001b[39m# ignore the tracking, just draw and close all figures\u001b[39;00m\n\u001b[0;32m    120\u001b[0m     \u001b[39mtry\u001b[39;00m:\n\u001b[1;32m--> 121\u001b[0m         \u001b[39mreturn\u001b[39;00m show(\u001b[39mTrue\u001b[39;49;00m)\n\u001b[0;32m    122\u001b[0m     \u001b[39mexcept\u001b[39;00m \u001b[39mException\u001b[39;00m \u001b[39mas\u001b[39;00m e:\n\u001b[0;32m    123\u001b[0m         \u001b[39m# safely show traceback if in IPython, else raise\u001b[39;00m\n\u001b[0;32m    124\u001b[0m         ip \u001b[39m=\u001b[39m get_ipython()\n",
      "File \u001b[1;32mc:\\Users\\Wangelik\\AppData\\Local\\Programs\\Python\\Python310\\lib\\site-packages\\matplotlib_inline\\backend_inline.py:43\u001b[0m, in \u001b[0;36mshow\u001b[1;34m(close, block)\u001b[0m\n\u001b[0;32m     39\u001b[0m \u001b[39mtry\u001b[39;00m:\n\u001b[0;32m     40\u001b[0m     \u001b[39mfor\u001b[39;00m figure_manager \u001b[39min\u001b[39;00m Gcf\u001b[39m.\u001b[39mget_all_fig_managers():\n\u001b[0;32m     41\u001b[0m         display(\n\u001b[0;32m     42\u001b[0m             figure_manager\u001b[39m.\u001b[39mcanvas\u001b[39m.\u001b[39mfigure,\n\u001b[1;32m---> 43\u001b[0m             metadata\u001b[39m=\u001b[39m_fetch_figure_metadata(figure_manager\u001b[39m.\u001b[39;49mcanvas\u001b[39m.\u001b[39;49mfigure)\n\u001b[0;32m     44\u001b[0m         )\n\u001b[0;32m     45\u001b[0m \u001b[39mfinally\u001b[39;00m:\n\u001b[0;32m     46\u001b[0m     show\u001b[39m.\u001b[39m_to_draw \u001b[39m=\u001b[39m []\n",
      "File \u001b[1;32mc:\\Users\\Wangelik\\AppData\\Local\\Programs\\Python\\Python310\\lib\\site-packages\\matplotlib_inline\\backend_inline.py:231\u001b[0m, in \u001b[0;36m_fetch_figure_metadata\u001b[1;34m(fig)\u001b[0m\n\u001b[0;32m    228\u001b[0m \u001b[39m# determine if a background is needed for legibility\u001b[39;00m\n\u001b[0;32m    229\u001b[0m \u001b[39mif\u001b[39;00m _is_transparent(fig\u001b[39m.\u001b[39mget_facecolor()):\n\u001b[0;32m    230\u001b[0m     \u001b[39m# the background is transparent\u001b[39;00m\n\u001b[1;32m--> 231\u001b[0m     ticksLight \u001b[39m=\u001b[39m _is_light([label\u001b[39m.\u001b[39mget_color()\n\u001b[0;32m    232\u001b[0m                             \u001b[39mfor\u001b[39;00m axes \u001b[39min\u001b[39;00m fig\u001b[39m.\u001b[39maxes\n\u001b[0;32m    233\u001b[0m                             \u001b[39mfor\u001b[39;00m axis \u001b[39min\u001b[39;00m (axes\u001b[39m.\u001b[39mxaxis, axes\u001b[39m.\u001b[39myaxis)\n\u001b[0;32m    234\u001b[0m                             \u001b[39mfor\u001b[39;00m label \u001b[39min\u001b[39;00m axis\u001b[39m.\u001b[39mget_ticklabels()])\n\u001b[0;32m    235\u001b[0m     \u001b[39mif\u001b[39;00m ticksLight\u001b[39m.\u001b[39msize \u001b[39mand\u001b[39;00m (ticksLight \u001b[39m==\u001b[39m ticksLight[\u001b[39m0\u001b[39m])\u001b[39m.\u001b[39mall():\n\u001b[0;32m    236\u001b[0m         \u001b[39m# there are one or more tick labels, all with the same lightness\u001b[39;00m\n\u001b[0;32m    237\u001b[0m         \u001b[39mreturn\u001b[39;00m {\u001b[39m'\u001b[39m\u001b[39mneeds_background\u001b[39m\u001b[39m'\u001b[39m: \u001b[39m'\u001b[39m\u001b[39mdark\u001b[39m\u001b[39m'\u001b[39m \u001b[39mif\u001b[39;00m ticksLight[\u001b[39m0\u001b[39m] \u001b[39melse\u001b[39;00m \u001b[39m'\u001b[39m\u001b[39mlight\u001b[39m\u001b[39m'\u001b[39m}\n",
      "File \u001b[1;32mc:\\Users\\Wangelik\\AppData\\Local\\Programs\\Python\\Python310\\lib\\site-packages\\matplotlib_inline\\backend_inline.py:234\u001b[0m, in \u001b[0;36m<listcomp>\u001b[1;34m(.0)\u001b[0m\n\u001b[0;32m    228\u001b[0m \u001b[39m# determine if a background is needed for legibility\u001b[39;00m\n\u001b[0;32m    229\u001b[0m \u001b[39mif\u001b[39;00m _is_transparent(fig\u001b[39m.\u001b[39mget_facecolor()):\n\u001b[0;32m    230\u001b[0m     \u001b[39m# the background is transparent\u001b[39;00m\n\u001b[0;32m    231\u001b[0m     ticksLight \u001b[39m=\u001b[39m _is_light([label\u001b[39m.\u001b[39mget_color()\n\u001b[0;32m    232\u001b[0m                             \u001b[39mfor\u001b[39;00m axes \u001b[39min\u001b[39;00m fig\u001b[39m.\u001b[39maxes\n\u001b[0;32m    233\u001b[0m                             \u001b[39mfor\u001b[39;00m axis \u001b[39min\u001b[39;00m (axes\u001b[39m.\u001b[39mxaxis, axes\u001b[39m.\u001b[39myaxis)\n\u001b[1;32m--> 234\u001b[0m                             \u001b[39mfor\u001b[39;00m label \u001b[39min\u001b[39;00m axis\u001b[39m.\u001b[39;49mget_ticklabels()])\n\u001b[0;32m    235\u001b[0m     \u001b[39mif\u001b[39;00m ticksLight\u001b[39m.\u001b[39msize \u001b[39mand\u001b[39;00m (ticksLight \u001b[39m==\u001b[39m ticksLight[\u001b[39m0\u001b[39m])\u001b[39m.\u001b[39mall():\n\u001b[0;32m    236\u001b[0m         \u001b[39m# there are one or more tick labels, all with the same lightness\u001b[39;00m\n\u001b[0;32m    237\u001b[0m         \u001b[39mreturn\u001b[39;00m {\u001b[39m'\u001b[39m\u001b[39mneeds_background\u001b[39m\u001b[39m'\u001b[39m: \u001b[39m'\u001b[39m\u001b[39mdark\u001b[39m\u001b[39m'\u001b[39m \u001b[39mif\u001b[39;00m ticksLight[\u001b[39m0\u001b[39m] \u001b[39melse\u001b[39;00m \u001b[39m'\u001b[39m\u001b[39mlight\u001b[39m\u001b[39m'\u001b[39m}\n",
      "File \u001b[1;32mc:\\Users\\Wangelik\\AppData\\Local\\Programs\\Python\\Python310\\lib\\site-packages\\matplotlib\\axis.py:1249\u001b[0m, in \u001b[0;36mAxis.get_ticklabels\u001b[1;34m(self, minor, which)\u001b[0m\n\u001b[0;32m   1247\u001b[0m \u001b[39mif\u001b[39;00m minor:\n\u001b[0;32m   1248\u001b[0m     \u001b[39mreturn\u001b[39;00m \u001b[39mself\u001b[39m\u001b[39m.\u001b[39mget_minorticklabels()\n\u001b[1;32m-> 1249\u001b[0m \u001b[39mreturn\u001b[39;00m \u001b[39mself\u001b[39;49m\u001b[39m.\u001b[39;49mget_majorticklabels()\n",
      "File \u001b[1;32mc:\\Users\\Wangelik\\AppData\\Local\\Programs\\Python\\Python310\\lib\\site-packages\\matplotlib\\axis.py:1201\u001b[0m, in \u001b[0;36mAxis.get_majorticklabels\u001b[1;34m(self)\u001b[0m\n\u001b[0;32m   1199\u001b[0m \u001b[39mdef\u001b[39;00m \u001b[39mget_majorticklabels\u001b[39m(\u001b[39mself\u001b[39m):\n\u001b[0;32m   1200\u001b[0m     \u001b[39m\"\"\"Return this Axis' major tick labels, as a list of `~.text.Text`.\"\"\"\u001b[39;00m\n\u001b[1;32m-> 1201\u001b[0m     ticks \u001b[39m=\u001b[39m \u001b[39mself\u001b[39;49m\u001b[39m.\u001b[39;49mget_major_ticks()\n\u001b[0;32m   1202\u001b[0m     labels1 \u001b[39m=\u001b[39m [tick\u001b[39m.\u001b[39mlabel1 \u001b[39mfor\u001b[39;00m tick \u001b[39min\u001b[39;00m ticks \u001b[39mif\u001b[39;00m tick\u001b[39m.\u001b[39mlabel1\u001b[39m.\u001b[39mget_visible()]\n\u001b[0;32m   1203\u001b[0m     labels2 \u001b[39m=\u001b[39m [tick\u001b[39m.\u001b[39mlabel2 \u001b[39mfor\u001b[39;00m tick \u001b[39min\u001b[39;00m ticks \u001b[39mif\u001b[39;00m tick\u001b[39m.\u001b[39mlabel2\u001b[39m.\u001b[39mget_visible()]\n",
      "File \u001b[1;32mc:\\Users\\Wangelik\\AppData\\Local\\Programs\\Python\\Python310\\lib\\site-packages\\matplotlib\\axis.py:1375\u001b[0m, in \u001b[0;36mAxis.get_major_ticks\u001b[1;34m(self, numticks)\u001b[0m\n\u001b[0;32m   1371\u001b[0m     numticks \u001b[39m=\u001b[39m \u001b[39mlen\u001b[39m(\u001b[39mself\u001b[39m\u001b[39m.\u001b[39mget_majorticklocs())\n\u001b[0;32m   1373\u001b[0m \u001b[39mwhile\u001b[39;00m \u001b[39mlen\u001b[39m(\u001b[39mself\u001b[39m\u001b[39m.\u001b[39mmajorTicks) \u001b[39m<\u001b[39m numticks:\n\u001b[0;32m   1374\u001b[0m     \u001b[39m# Update the new tick label properties from the old.\u001b[39;00m\n\u001b[1;32m-> 1375\u001b[0m     tick \u001b[39m=\u001b[39m \u001b[39mself\u001b[39;49m\u001b[39m.\u001b[39;49m_get_tick(major\u001b[39m=\u001b[39;49m\u001b[39mTrue\u001b[39;49;00m)\n\u001b[0;32m   1376\u001b[0m     \u001b[39mself\u001b[39m\u001b[39m.\u001b[39mmajorTicks\u001b[39m.\u001b[39mappend(tick)\n\u001b[0;32m   1377\u001b[0m     \u001b[39mself\u001b[39m\u001b[39m.\u001b[39m_copy_tick_props(\u001b[39mself\u001b[39m\u001b[39m.\u001b[39mmajorTicks[\u001b[39m0\u001b[39m], tick)\n",
      "File \u001b[1;32mc:\\Users\\Wangelik\\AppData\\Local\\Programs\\Python\\Python310\\lib\\site-packages\\matplotlib\\axis.py:2057\u001b[0m, in \u001b[0;36mXAxis._get_tick\u001b[1;34m(self, major)\u001b[0m\n\u001b[0;32m   2055\u001b[0m \u001b[39melse\u001b[39;00m:\n\u001b[0;32m   2056\u001b[0m     tick_kw \u001b[39m=\u001b[39m \u001b[39mself\u001b[39m\u001b[39m.\u001b[39m_minor_tick_kw\n\u001b[1;32m-> 2057\u001b[0m \u001b[39mreturn\u001b[39;00m XTick(\u001b[39mself\u001b[39m\u001b[39m.\u001b[39maxes, \u001b[39m0\u001b[39m, major\u001b[39m=\u001b[39mmajor, \u001b[39m*\u001b[39m\u001b[39m*\u001b[39mtick_kw)\n",
      "File \u001b[1;32mc:\\Users\\Wangelik\\AppData\\Local\\Programs\\Python\\Python310\\lib\\site-packages\\matplotlib\\axis.py:415\u001b[0m, in \u001b[0;36mXTick.__init__\u001b[1;34m(self, *args, **kwargs)\u001b[0m\n\u001b[0;32m    414\u001b[0m \u001b[39mdef\u001b[39;00m \u001b[39m__init__\u001b[39m(\u001b[39mself\u001b[39m, \u001b[39m*\u001b[39margs, \u001b[39m*\u001b[39m\u001b[39m*\u001b[39mkwargs):\n\u001b[1;32m--> 415\u001b[0m     \u001b[39msuper\u001b[39m()\u001b[39m.\u001b[39m\u001b[39m__init__\u001b[39m(\u001b[39m*\u001b[39margs, \u001b[39m*\u001b[39m\u001b[39m*\u001b[39mkwargs)\n\u001b[0;32m    416\u001b[0m     \u001b[39m# x in data coords, y in axes coords\u001b[39;00m\n\u001b[0;32m    417\u001b[0m     ax \u001b[39m=\u001b[39m \u001b[39mself\u001b[39m\u001b[39m.\u001b[39maxes\n",
      "File \u001b[1;32mc:\\Users\\Wangelik\\AppData\\Local\\Programs\\Python\\Python310\\lib\\site-packages\\matplotlib\\axis.py:166\u001b[0m, in \u001b[0;36mTick.__init__\u001b[1;34m(self, axes, loc, size, width, color, tickdir, pad, labelsize, labelcolor, zorder, gridOn, tick1On, tick2On, label1On, label2On, major, labelrotation, grid_color, grid_linestyle, grid_linewidth, grid_alpha, **kw)\u001b[0m\n\u001b[0;32m    155\u001b[0m \u001b[39mself\u001b[39m\u001b[39m.\u001b[39mtick2line \u001b[39m=\u001b[39m mlines\u001b[39m.\u001b[39mLine2D(\n\u001b[0;32m    156\u001b[0m     [], [],\n\u001b[0;32m    157\u001b[0m     color\u001b[39m=\u001b[39mcolor, linestyle\u001b[39m=\u001b[39m\u001b[39m\"\u001b[39m\u001b[39mnone\u001b[39m\u001b[39m\"\u001b[39m, zorder\u001b[39m=\u001b[39mzorder, visible\u001b[39m=\u001b[39mtick2On,\n\u001b[0;32m    158\u001b[0m     markeredgecolor\u001b[39m=\u001b[39mcolor, markersize\u001b[39m=\u001b[39msize, markeredgewidth\u001b[39m=\u001b[39mwidth,\n\u001b[0;32m    159\u001b[0m )\n\u001b[0;32m    160\u001b[0m \u001b[39mself\u001b[39m\u001b[39m.\u001b[39mgridline \u001b[39m=\u001b[39m mlines\u001b[39m.\u001b[39mLine2D(\n\u001b[0;32m    161\u001b[0m     [], [],\n\u001b[0;32m    162\u001b[0m     color\u001b[39m=\u001b[39mgrid_color, alpha\u001b[39m=\u001b[39mgrid_alpha, visible\u001b[39m=\u001b[39mgridOn,\n\u001b[0;32m    163\u001b[0m     linestyle\u001b[39m=\u001b[39mgrid_linestyle, linewidth\u001b[39m=\u001b[39mgrid_linewidth, marker\u001b[39m=\u001b[39m\u001b[39m\"\u001b[39m\u001b[39m\"\u001b[39m,\n\u001b[0;32m    164\u001b[0m     \u001b[39m*\u001b[39m\u001b[39m*\u001b[39mgrid_kw,\n\u001b[0;32m    165\u001b[0m )\n\u001b[1;32m--> 166\u001b[0m \u001b[39mself\u001b[39;49m\u001b[39m.\u001b[39;49mgridline\u001b[39m.\u001b[39;49mget_path()\u001b[39m.\u001b[39m_interpolation_steps \u001b[39m=\u001b[39m \\\n\u001b[0;32m    167\u001b[0m     GRIDLINE_INTERPOLATION_STEPS\n\u001b[0;32m    168\u001b[0m \u001b[39mself\u001b[39m\u001b[39m.\u001b[39mlabel1 \u001b[39m=\u001b[39m mtext\u001b[39m.\u001b[39mText(\n\u001b[0;32m    169\u001b[0m     np\u001b[39m.\u001b[39mnan, np\u001b[39m.\u001b[39mnan,\n\u001b[0;32m    170\u001b[0m     fontsize\u001b[39m=\u001b[39mlabelsize, color\u001b[39m=\u001b[39mlabelcolor, visible\u001b[39m=\u001b[39mlabel1On,\n\u001b[0;32m    171\u001b[0m     rotation\u001b[39m=\u001b[39m\u001b[39mself\u001b[39m\u001b[39m.\u001b[39m_labelrotation[\u001b[39m1\u001b[39m])\n\u001b[0;32m    172\u001b[0m \u001b[39mself\u001b[39m\u001b[39m.\u001b[39mlabel2 \u001b[39m=\u001b[39m mtext\u001b[39m.\u001b[39mText(\n\u001b[0;32m    173\u001b[0m     np\u001b[39m.\u001b[39mnan, np\u001b[39m.\u001b[39mnan,\n\u001b[0;32m    174\u001b[0m     fontsize\u001b[39m=\u001b[39mlabelsize, color\u001b[39m=\u001b[39mlabelcolor, visible\u001b[39m=\u001b[39mlabel2On,\n\u001b[0;32m    175\u001b[0m     rotation\u001b[39m=\u001b[39m\u001b[39mself\u001b[39m\u001b[39m.\u001b[39m_labelrotation[\u001b[39m1\u001b[39m])\n",
      "File \u001b[1;32mc:\\Users\\Wangelik\\AppData\\Local\\Programs\\Python\\Python310\\lib\\site-packages\\matplotlib\\lines.py:999\u001b[0m, in \u001b[0;36mLine2D.get_path\u001b[1;34m(self)\u001b[0m\n\u001b[0;32m    997\u001b[0m \u001b[39m\"\"\"Return the `~matplotlib.path.Path` associated with this line.\"\"\"\u001b[39;00m\n\u001b[0;32m    998\u001b[0m \u001b[39mif\u001b[39;00m \u001b[39mself\u001b[39m\u001b[39m.\u001b[39m_invalidy \u001b[39mor\u001b[39;00m \u001b[39mself\u001b[39m\u001b[39m.\u001b[39m_invalidx:\n\u001b[1;32m--> 999\u001b[0m     \u001b[39mself\u001b[39;49m\u001b[39m.\u001b[39;49mrecache()\n\u001b[0;32m   1000\u001b[0m \u001b[39mreturn\u001b[39;00m \u001b[39mself\u001b[39m\u001b[39m.\u001b[39m_path\n",
      "File \u001b[1;32mc:\\Users\\Wangelik\\AppData\\Local\\Programs\\Python\\Python310\\lib\\site-packages\\matplotlib\\lines.py:661\u001b[0m, in \u001b[0;36mLine2D.recache\u001b[1;34m(self, always)\u001b[0m\n\u001b[0;32m    658\u001b[0m \u001b[39melse\u001b[39;00m:\n\u001b[0;32m    659\u001b[0m     y \u001b[39m=\u001b[39m \u001b[39mself\u001b[39m\u001b[39m.\u001b[39m_y\n\u001b[1;32m--> 661\u001b[0m \u001b[39mself\u001b[39m\u001b[39m.\u001b[39m_xy \u001b[39m=\u001b[39m np\u001b[39m.\u001b[39;49mcolumn_stack(np\u001b[39m.\u001b[39;49mbroadcast_arrays(x, y))\u001b[39m.\u001b[39mastype(\u001b[39mfloat\u001b[39m)\n\u001b[0;32m    662\u001b[0m \u001b[39mself\u001b[39m\u001b[39m.\u001b[39m_x, \u001b[39mself\u001b[39m\u001b[39m.\u001b[39m_y \u001b[39m=\u001b[39m \u001b[39mself\u001b[39m\u001b[39m.\u001b[39m_xy\u001b[39m.\u001b[39mT  \u001b[39m# views\u001b[39;00m\n\u001b[0;32m    664\u001b[0m \u001b[39mself\u001b[39m\u001b[39m.\u001b[39m_subslice \u001b[39m=\u001b[39m \u001b[39mFalse\u001b[39;00m\n",
      "File \u001b[1;32m<__array_function__ internals>:180\u001b[0m, in \u001b[0;36mcolumn_stack\u001b[1;34m(*args, **kwargs)\u001b[0m\n",
      "File \u001b[1;32mc:\\Users\\Wangelik\\AppData\\Local\\Programs\\Python\\Python310\\lib\\site-packages\\numpy\\lib\\shape_base.py:656\u001b[0m, in \u001b[0;36mcolumn_stack\u001b[1;34m(tup)\u001b[0m\n\u001b[0;32m    654\u001b[0m         arr \u001b[39m=\u001b[39m array(arr, copy\u001b[39m=\u001b[39m\u001b[39mFalse\u001b[39;00m, subok\u001b[39m=\u001b[39m\u001b[39mTrue\u001b[39;00m, ndmin\u001b[39m=\u001b[39m\u001b[39m2\u001b[39m)\u001b[39m.\u001b[39mT\n\u001b[0;32m    655\u001b[0m     arrays\u001b[39m.\u001b[39mappend(arr)\n\u001b[1;32m--> 656\u001b[0m \u001b[39mreturn\u001b[39;00m _nx\u001b[39m.\u001b[39;49mconcatenate(arrays, \u001b[39m1\u001b[39;49m)\n",
      "File \u001b[1;32m<__array_function__ internals>:180\u001b[0m, in \u001b[0;36mconcatenate\u001b[1;34m(*args, **kwargs)\u001b[0m\n",
      "\u001b[1;31mKeyboardInterrupt\u001b[0m: "
     ]
    }
   ],
   "source": [
    "# debugging plots\n",
    "pri = {k:v/100 for (k, v) in var_priv.items()}\n",
    "plt.figure(figsize=(10,3))\n",
    "plt.bar(*zip(*var_orig.items()), color='b', alpha=0.5)\n",
    "plt.bar(*zip(*pri.items()), color='r', alpha=0.5)"
   ]
  },
  {
   "cell_type": "code",
   "execution_count": 24,
   "metadata": {},
   "outputs": [
    {
     "data": {
      "text/plain": [
       "<BarContainer object of 17 artists>"
      ]
     },
     "execution_count": 24,
     "metadata": {},
     "output_type": "execute_result"
    },
    {
     "data": {
      "image/png": "[encoded data removed]",
      "text/plain": [
       "<Figure size 720x216 with 1 Axes>"
      ]
     },
     "metadata": {
      "needs_background": "light"
     },
     "output_type": "display_data"
    }
   ],
   "source": [
    "# debugging plots\n",
    "pri = {k:v/100 for (k, v) in var_priv.items()}\n",
    "plt.figure(figsize=(10,3))\n",
    "plt.bar(*zip(*var_orig.items()), color='b', alpha=0.5)\n",
    "plt.bar(*zip(*pri.items()), color='r', alpha=0.5)"
   ]
  },
  {
   "cell_type": "code",
   "execution_count": 577,
   "metadata": {},
   "outputs": [],
   "source": [
    "# debugging plots\n",
    "pri = {k:int(v/100) for (k, v) in var_priv.items()}\n",
    "#plt.figure(figsize=(10,3))\n",
    "#plt.bar(*zip(*var_orig.items()), color='b', alpha=0.5)\n",
    "#plt.bar(*zip(*pri.items()), color='r', alpha=0.5)"
   ]
  },
  {
   "cell_type": "code",
   "execution_count": 578,
   "metadata": {},
   "outputs": [
    {
     "data": {
      "text/plain": [
       "66068"
      ]
     },
     "execution_count": 578,
     "metadata": {},
     "output_type": "execute_result"
    }
   ],
   "source": [
    "# debugging abs log diff\n",
    "log_diff(var_orig, pri)"
   ]
  },
  {
   "cell_type": "code",
   "execution_count": 579,
   "metadata": {},
   "outputs": [
    {
     "data": {
      "text/plain": [
       "0.6914720643419622"
      ]
     },
     "execution_count": 579,
     "metadata": {},
     "output_type": "execute_result"
    }
   ],
   "source": [
    "# debugging rel log sim\n",
    "emd_utility(var_orig, pri)"
   ]
  },
  {
   "cell_type": "code",
   "execution_count": 580,
   "metadata": {},
   "outputs": [],
   "source": [
    "# save private logs\n",
    "fp = open(f\"logs/variants_gan_0.01_0.01.json\", \"w\")\n",
    "json.dump(pri, fp)\n",
    "fp.close()"
   ]
  },
  {
   "cell_type": "code",
   "execution_count": null,
   "metadata": {},
   "outputs": [],
   "source": [
    "# DATA UTILITY RESULTS\n",
    "\n",
    "        # 0.01      # 0.001     # 0.0001    # 0.00001   # 0.000001\n",
    "# 2     0.8           0.85          0.85      0.82         0.83\n",
    "# 1     0.81           0.83         0.82      0.85          0.82\n",
    "# 0.1   0.71           0.65          0.69       0.64          0.7\n",
    "# 0.01  0.69           0.65         0.65       0.53          0.55\n",
    "# 0.001"
   ]
  },
  {
   "cell_type": "code",
   "execution_count": 77,
   "metadata": {},
   "outputs": [],
   "source": [
    "# RESULT UTILITY RESULTS\n",
    "\n",
    "        # 0.01      # 0.001     # 0.0001    # 0.00001   # 0.000001\n",
    "# 2     69k          53k            53k        61k           58k\n",
    "# 1     55k          61k           58k       54k           52k\n",
    "# 0.1   80k          88k          89k        108k          88k     \n",
    "# 0.01  66k          61k          72k       80k           77k\n",
    "# 0.001"
   ]
  }
 ],
 "metadata": {
  "interpreter": {
   "hash": "e6a03f261ac63240f8bba312c3054c35c7091234d5590acf2f05ed98611aef5f"
  },
  "kernelspec": {
   "display_name": "Python 3.10.2 64-bit",
   "language": "python",
   "name": "python3"
  },
  "language_info": {
   "codemirror_mode": {
    "name": "ipython",
    "version": 3
   },
   "file_extension": ".py",
   "mimetype": "text/x-python",
   "name": "python",
   "nbconvert_exporter": "python",
   "pygments_lexer": "ipython3",
   "version": "3.10.2"
  }
 },
 "nbformat": 4,
 "nbformat_minor": 2
}
